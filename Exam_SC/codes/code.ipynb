{
 "cells": [
  {
   "cell_type": "markdown",
   "id": "dbc7fa82",
   "metadata": {},
   "source": [
    "# Exam: EDA and Machine Learning Modeling with OOP in Python\n"
   ]
  },
  {
   "cell_type": "markdown",
   "id": "ddb6e4f3",
   "metadata": {},
   "source": [
    "##  Business Context"
   ]
  },
  {
   "cell_type": "markdown",
   "id": "d88f5c04",
   "metadata": {},
   "source": [
    "###  Project Title: Predicting Youth Employment Status in South Africa\n",
    "\n",
    "#### Dataset Description\n",
    "\n",
    "Youth unemployment is one of the most pressing challenges in South Africa. Despite various government and private-sector initiatives, a significant proportion of young individuals remain unemployed or disengaged from productive economic activities.\n",
    "\n",
    "This project aims to leverage data collected from a national longitudinal survey of South African youth to build a predictive model. The goal is to identify the key demographic, educational, and socio-economic factors that influence a young person's probability of being employed one year after their initial interview. By doing so, we can support policymakers, educators, and workforce development programs in better targeting interventions.\n",
    "\n",
    "---\n",
    "\n",
    "####  Dataset Description\n",
    "\n",
    "The dataset was collected across **four survey rounds**. Each row represents a unique individual, capturing data from the **baseline survey** (i.e., the first time the individual participated). The **target variable** indicates whether the person was employed **one year later**.\n",
    "\n",
    "####  Variable Descriptions\n",
    "\n",
    "| Variable           | Description |\n",
    "|--------------------|-------------|\n",
    "| `Person_id`        | Unique identifier for each respondent |\n",
    "| `Survey_date`      | Date when the baseline survey was conducted |\n",
    "| `Round`            | Survey round number (1 to 4) |\n",
    "| `Status`           | Individual's employment or study status at baseline (categorical) |\n",
    "| `Tenure`           | Duration in months of the current or most recent job/study |\n",
    "| `Geography`        | Urban or rural location |\n",
    "| `Province`         | South African province of residence |\n",
    "| `Matric`           | Whether the individual passed matric (1 = Yes, 0 = No) |\n",
    "| `Degree`           | Holds a university degree (1 = Yes, 0 = No) |\n",
    "| `Diploma`          | Holds a diploma (1 = Yes, 0 = No) |\n",
    "| `Schoolquintile`   | Socio-economic level of the attended school (1 = poorest, 5 = richest) |\n",
    "| `Math`             | Final school math result (percentage or score) |\n",
    "| `Mathlit`          | Final mathematical literacy score |\n",
    "| `Additional_lang`  | Score in additional language subject |\n",
    "| `Home_lang`        | Score in home language subject |\n",
    "| `Science`          | Final school science result |\n",
    "| `Female`           | Gender (1 = Female, 0 = Male) |\n",
    "| `Sa_citizen`       | South African citizenship (1 = Yes, 0 = No) |\n",
    "| `Birthyear`        | Year of birth |\n",
    "| `Birthmonth`       | Month of birth |\n",
    "| `Target`           | Employed at follow-up (1 year later) (1 = Yes, 0 = No) |\n",
    "\n",
    "---\n",
    "\n",
    "#### Objective\n",
    "\n",
    "The goal is to use the baseline features to **predict the employment status** (`Target`) of each youth one year after the initial survey. This can help in:\n",
    "- Identifying high-risk individuals for unemployment.\n",
    "- Providing data-driven insights to reduce youth joblessness.\n",
    "\n"
   ]
  },
  {
   "cell_type": "markdown",
   "id": "fcb440f5",
   "metadata": {},
   "source": [
    "## Section A: Exploratory Data Analysis (EDA)"
   ]
  },
  {
   "cell_type": "markdown",
   "id": "c136583a",
   "metadata": {},
   "source": [
    "### 1.\tData Inspection"
   ]
  },
  {
   "cell_type": "markdown",
   "id": "de786027",
   "metadata": {},
   "source": [
    "#### load package "
   ]
  },
  {
   "cell_type": "code",
   "execution_count": null,
   "id": "f686b12a",
   "metadata": {},
   "outputs": [],
   "source": [
    "import pandas as pd \n",
    "import pathlib\n",
    "import os\n",
    "import seaborn as sns\n",
    "import matplotlib.pyplot as plt\n",
    "from scipy.stats import pearsonr\n",
    "import numpy as np\n",
    "from sklearn.preprocessing import LabelEncoder\n",
    "from sklearn.impute import SimpleImputer\n",
    "from sklearn.preprocessing import OneHotEncoder,OrdinalEncoder\n",
    "import time\n",
    "import ipywidgets as widgets\n",
    "from IPython.display import display, clear_output\n",
    "import warnings"
   ]
  },
  {
   "cell_type": "markdown",
   "id": "a5c84b8f",
   "metadata": {},
   "source": [
    "#### load data "
   ]
  },
  {
   "cell_type": "code",
   "execution_count": null,
   "id": "b74ea663",
   "metadata": {},
   "outputs": [
    {
     "data": {
      "text/html": [
       "<div>\n",
       "<style scoped>\n",
       "    .dataframe tbody tr th:only-of-type {\n",
       "        vertical-align: middle;\n",
       "    }\n",
       "\n",
       "    .dataframe tbody tr th {\n",
       "        vertical-align: top;\n",
       "    }\n",
       "\n",
       "    .dataframe thead th {\n",
       "        text-align: right;\n",
       "    }\n",
       "</style>\n",
       "<table border=\"1\" class=\"dataframe\">\n",
       "  <thead>\n",
       "    <tr style=\"text-align: right;\">\n",
       "      <th></th>\n",
       "      <th>Person_id</th>\n",
       "      <th>Survey_date</th>\n",
       "      <th>Round</th>\n",
       "      <th>Status</th>\n",
       "      <th>Tenure</th>\n",
       "      <th>Geography</th>\n",
       "      <th>Province</th>\n",
       "      <th>Matric</th>\n",
       "      <th>Degree</th>\n",
       "      <th>Diploma</th>\n",
       "      <th>...</th>\n",
       "      <th>Math</th>\n",
       "      <th>Mathlit</th>\n",
       "      <th>Additional_lang</th>\n",
       "      <th>Home_lang</th>\n",
       "      <th>Science</th>\n",
       "      <th>Female</th>\n",
       "      <th>Sa_citizen</th>\n",
       "      <th>Birthyear</th>\n",
       "      <th>Birthmonth</th>\n",
       "      <th>Target</th>\n",
       "    </tr>\n",
       "  </thead>\n",
       "  <tbody>\n",
       "    <tr>\n",
       "      <th>0</th>\n",
       "      <td>Id_eqz61wz7yn</td>\n",
       "      <td>2022-02-23</td>\n",
       "      <td>2</td>\n",
       "      <td>studying</td>\n",
       "      <td>NaN</td>\n",
       "      <td>Rural</td>\n",
       "      <td>Mpumalanga</td>\n",
       "      <td>1.0</td>\n",
       "      <td>0.0</td>\n",
       "      <td>0.0</td>\n",
       "      <td>...</td>\n",
       "      <td>0 - 29 %</td>\n",
       "      <td>NaN</td>\n",
       "      <td>50 - 59 %</td>\n",
       "      <td>NaN</td>\n",
       "      <td>0 - 29 %</td>\n",
       "      <td>1</td>\n",
       "      <td>1</td>\n",
       "      <td>2000</td>\n",
       "      <td>5</td>\n",
       "      <td>0</td>\n",
       "    </tr>\n",
       "    <tr>\n",
       "      <th>1</th>\n",
       "      <td>Id_kj5k3g5wud</td>\n",
       "      <td>2023-02-06</td>\n",
       "      <td>4</td>\n",
       "      <td>unemployed</td>\n",
       "      <td>427.0</td>\n",
       "      <td>Suburb</td>\n",
       "      <td>North West</td>\n",
       "      <td>1.0</td>\n",
       "      <td>0.0</td>\n",
       "      <td>0.0</td>\n",
       "      <td>...</td>\n",
       "      <td>30 - 39 %</td>\n",
       "      <td>NaN</td>\n",
       "      <td>40 - 49 %</td>\n",
       "      <td>NaN</td>\n",
       "      <td>30 - 39 %</td>\n",
       "      <td>1</td>\n",
       "      <td>1</td>\n",
       "      <td>1989</td>\n",
       "      <td>4</td>\n",
       "      <td>1</td>\n",
       "    </tr>\n",
       "    <tr>\n",
       "      <th>2</th>\n",
       "      <td>Id_9h0isj38y4</td>\n",
       "      <td>2022-08-08</td>\n",
       "      <td>3</td>\n",
       "      <td>other</td>\n",
       "      <td>NaN</td>\n",
       "      <td>Urban</td>\n",
       "      <td>Free State</td>\n",
       "      <td>1.0</td>\n",
       "      <td>0.0</td>\n",
       "      <td>0.0</td>\n",
       "      <td>...</td>\n",
       "      <td>30 - 39 %</td>\n",
       "      <td>NaN</td>\n",
       "      <td>40 - 49 %</td>\n",
       "      <td>NaN</td>\n",
       "      <td>30 - 39 %</td>\n",
       "      <td>0</td>\n",
       "      <td>1</td>\n",
       "      <td>1996</td>\n",
       "      <td>7</td>\n",
       "      <td>1</td>\n",
       "    </tr>\n",
       "    <tr>\n",
       "      <th>3</th>\n",
       "      <td>Id_5ch3zwpdef</td>\n",
       "      <td>2022-03-16</td>\n",
       "      <td>2</td>\n",
       "      <td>unemployed</td>\n",
       "      <td>810.0</td>\n",
       "      <td>Urban</td>\n",
       "      <td>Eastern Cape</td>\n",
       "      <td>NaN</td>\n",
       "      <td>NaN</td>\n",
       "      <td>NaN</td>\n",
       "      <td>...</td>\n",
       "      <td>NaN</td>\n",
       "      <td>NaN</td>\n",
       "      <td>NaN</td>\n",
       "      <td>NaN</td>\n",
       "      <td>NaN</td>\n",
       "      <td>0</td>\n",
       "      <td>1</td>\n",
       "      <td>2000</td>\n",
       "      <td>1</td>\n",
       "      <td>0</td>\n",
       "    </tr>\n",
       "    <tr>\n",
       "      <th>4</th>\n",
       "      <td>Id_g4elxibjej</td>\n",
       "      <td>2023-03-22</td>\n",
       "      <td>4</td>\n",
       "      <td>studying</td>\n",
       "      <td>NaN</td>\n",
       "      <td>Urban</td>\n",
       "      <td>Limpopo</td>\n",
       "      <td>NaN</td>\n",
       "      <td>NaN</td>\n",
       "      <td>NaN</td>\n",
       "      <td>...</td>\n",
       "      <td>NaN</td>\n",
       "      <td>NaN</td>\n",
       "      <td>NaN</td>\n",
       "      <td>NaN</td>\n",
       "      <td>NaN</td>\n",
       "      <td>1</td>\n",
       "      <td>1</td>\n",
       "      <td>1998</td>\n",
       "      <td>12</td>\n",
       "      <td>0</td>\n",
       "    </tr>\n",
       "  </tbody>\n",
       "</table>\n",
       "<p>5 rows × 21 columns</p>\n",
       "</div>"
      ],
      "text/plain": [
       "       Person_id Survey_date  Round      Status  Tenure Geography  \\\n",
       "0  Id_eqz61wz7yn  2022-02-23      2    studying     NaN     Rural   \n",
       "1  Id_kj5k3g5wud  2023-02-06      4  unemployed   427.0    Suburb   \n",
       "2  Id_9h0isj38y4  2022-08-08      3       other     NaN     Urban   \n",
       "3  Id_5ch3zwpdef  2022-03-16      2  unemployed   810.0     Urban   \n",
       "4  Id_g4elxibjej  2023-03-22      4    studying     NaN     Urban   \n",
       "\n",
       "       Province  Matric  Degree  Diploma  ...       Math Mathlit  \\\n",
       "0    Mpumalanga     1.0     0.0      0.0  ...   0 - 29 %     NaN   \n",
       "1    North West     1.0     0.0      0.0  ...  30 - 39 %     NaN   \n",
       "2    Free State     1.0     0.0      0.0  ...  30 - 39 %     NaN   \n",
       "3  Eastern Cape     NaN     NaN      NaN  ...        NaN     NaN   \n",
       "4       Limpopo     NaN     NaN      NaN  ...        NaN     NaN   \n",
       "\n",
       "  Additional_lang Home_lang    Science Female  Sa_citizen  Birthyear  \\\n",
       "0       50 - 59 %       NaN   0 - 29 %      1           1       2000   \n",
       "1       40 - 49 %       NaN  30 - 39 %      1           1       1989   \n",
       "2       40 - 49 %       NaN  30 - 39 %      0           1       1996   \n",
       "3             NaN       NaN        NaN      0           1       2000   \n",
       "4             NaN       NaN        NaN      1           1       1998   \n",
       "\n",
       "   Birthmonth  Target  \n",
       "0           5       0  \n",
       "1           4       1  \n",
       "2           7       1  \n",
       "3           1       0  \n",
       "4          12       0  \n",
       "\n",
       "[5 rows x 21 columns]"
      ]
     },
     "execution_count": 126,
     "metadata": {},
     "output_type": "execute_result"
    }
   ],
   "source": [
    "data=pd.read_csv(r\"path\")\n",
    "df=pd.DataFrame(data)\n",
    "df.head()"
   ]
  },
  {
   "cell_type": "markdown",
   "id": "c63f9448",
   "metadata": {},
   "source": [
    "####\tAnalyze the Structure of the Data "
   ]
  },
  {
   "cell_type": "code",
   "execution_count": 127,
   "id": "d4831fe5",
   "metadata": {},
   "outputs": [
    {
     "data": {
      "text/markdown": [
       "##  **Basic Info**"
      ],
      "text/plain": [
       "<IPython.core.display.Markdown object>"
      ]
     },
     "metadata": {},
     "output_type": "display_data"
    },
    {
     "data": {
      "text/markdown": [
       "- **Rows:** 4,020"
      ],
      "text/plain": [
       "<IPython.core.display.Markdown object>"
      ]
     },
     "metadata": {},
     "output_type": "display_data"
    },
    {
     "data": {
      "text/markdown": [
       "- **Columns:** 21"
      ],
      "text/plain": [
       "<IPython.core.display.Markdown object>"
      ]
     },
     "metadata": {},
     "output_type": "display_data"
    },
    {
     "data": {
      "text/markdown": [
       "###  **Column Names**"
      ],
      "text/plain": [
       "<IPython.core.display.Markdown object>"
      ]
     },
     "metadata": {},
     "output_type": "display_data"
    },
    {
     "data": {
      "text/markdown": [
       "`Person_id`, `Survey_date`, `Round`, `Status`, `Tenure`, `Geography`, `Province`, `Matric`, `Degree`, `Diploma`, `Schoolquintile`, `Math`, `Mathlit`, `Additional_lang`, `Home_lang`, `Science`, `Female`, `Sa_citizen`, `Birthyear`, `Birthmonth`, `Target`"
      ],
      "text/plain": [
       "<IPython.core.display.Markdown object>"
      ]
     },
     "metadata": {},
     "output_type": "display_data"
    },
    {
     "data": {
      "text/markdown": [
       "##  **Data Types Summary**"
      ],
      "text/plain": [
       "<IPython.core.display.Markdown object>"
      ]
     },
     "metadata": {},
     "output_type": "display_data"
    },
    {
     "data": {
      "text/html": [
       "<div>\n",
       "<style scoped>\n",
       "    .dataframe tbody tr th:only-of-type {\n",
       "        vertical-align: middle;\n",
       "    }\n",
       "\n",
       "    .dataframe tbody tr th {\n",
       "        vertical-align: top;\n",
       "    }\n",
       "\n",
       "    .dataframe thead th {\n",
       "        text-align: right;\n",
       "    }\n",
       "</style>\n",
       "<table border=\"1\" class=\"dataframe\">\n",
       "  <thead>\n",
       "    <tr style=\"text-align: right;\">\n",
       "      <th></th>\n",
       "      <th>Count</th>\n",
       "    </tr>\n",
       "  </thead>\n",
       "  <tbody>\n",
       "    <tr>\n",
       "      <th>object</th>\n",
       "      <td>10</td>\n",
       "    </tr>\n",
       "    <tr>\n",
       "      <th>int64</th>\n",
       "      <td>6</td>\n",
       "    </tr>\n",
       "    <tr>\n",
       "      <th>float64</th>\n",
       "      <td>5</td>\n",
       "    </tr>\n",
       "  </tbody>\n",
       "</table>\n",
       "</div>"
      ],
      "text/plain": [
       "         Count\n",
       "object      10\n",
       "int64        6\n",
       "float64      5"
      ]
     },
     "metadata": {},
     "output_type": "display_data"
    },
    {
     "data": {
      "text/markdown": [
       "##  **Variable Types**"
      ],
      "text/plain": [
       "<IPython.core.display.Markdown object>"
      ]
     },
     "metadata": {},
     "output_type": "display_data"
    },
    {
     "data": {
      "text/markdown": [
       "### Categorical Variables"
      ],
      "text/plain": [
       "<IPython.core.display.Markdown object>"
      ]
     },
     "metadata": {},
     "output_type": "display_data"
    },
    {
     "data": {
      "text/markdown": [
       "`Person_id`, `Survey_date`, `Status`, `Geography`, `Province`, `Math`, `Mathlit`, `Additional_lang`, `Home_lang`, `Science`"
      ],
      "text/plain": [
       "<IPython.core.display.Markdown object>"
      ]
     },
     "metadata": {},
     "output_type": "display_data"
    },
    {
     "data": {
      "text/markdown": [
       "### Numerical Variables"
      ],
      "text/plain": [
       "<IPython.core.display.Markdown object>"
      ]
     },
     "metadata": {},
     "output_type": "display_data"
    },
    {
     "data": {
      "text/markdown": [
       "`Round`, `Tenure`, `Matric`, `Degree`, `Diploma`, `Schoolquintile`, `Female`, `Sa_citizen`, `Birthyear`, `Birthmonth`, `Target`"
      ],
      "text/plain": [
       "<IPython.core.display.Markdown object>"
      ]
     },
     "metadata": {},
     "output_type": "display_data"
    },
    {
     "data": {
      "text/markdown": [
       "## **Missing Values**"
      ],
      "text/plain": [
       "<IPython.core.display.Markdown object>"
      ]
     },
     "metadata": {},
     "output_type": "display_data"
    },
    {
     "data": {
      "text/html": [
       "<div>\n",
       "<style scoped>\n",
       "    .dataframe tbody tr th:only-of-type {\n",
       "        vertical-align: middle;\n",
       "    }\n",
       "\n",
       "    .dataframe tbody tr th {\n",
       "        vertical-align: top;\n",
       "    }\n",
       "\n",
       "    .dataframe thead th {\n",
       "        text-align: right;\n",
       "    }\n",
       "</style>\n",
       "<table border=\"1\" class=\"dataframe\">\n",
       "  <thead>\n",
       "    <tr style=\"text-align: right;\">\n",
       "      <th></th>\n",
       "      <th>Missing</th>\n",
       "    </tr>\n",
       "    <tr>\n",
       "      <th>Variable</th>\n",
       "      <th></th>\n",
       "    </tr>\n",
       "  </thead>\n",
       "  <tbody>\n",
       "    <tr>\n",
       "      <th>Tenure</th>\n",
       "      <td>1394</td>\n",
       "    </tr>\n",
       "    <tr>\n",
       "      <th>Matric</th>\n",
       "      <td>1008</td>\n",
       "    </tr>\n",
       "    <tr>\n",
       "      <th>Degree</th>\n",
       "      <td>1831</td>\n",
       "    </tr>\n",
       "    <tr>\n",
       "      <th>Diploma</th>\n",
       "      <td>1809</td>\n",
       "    </tr>\n",
       "    <tr>\n",
       "      <th>Schoolquintile</th>\n",
       "      <td>1661</td>\n",
       "    </tr>\n",
       "    <tr>\n",
       "      <th>Math</th>\n",
       "      <td>3023</td>\n",
       "    </tr>\n",
       "    <tr>\n",
       "      <th>Mathlit</th>\n",
       "      <td>2667</td>\n",
       "    </tr>\n",
       "    <tr>\n",
       "      <th>Additional_lang</th>\n",
       "      <td>2002</td>\n",
       "    </tr>\n",
       "    <tr>\n",
       "      <th>Home_lang</th>\n",
       "      <td>3639</td>\n",
       "    </tr>\n",
       "    <tr>\n",
       "      <th>Science</th>\n",
       "      <td>3288</td>\n",
       "    </tr>\n",
       "  </tbody>\n",
       "</table>\n",
       "</div>"
      ],
      "text/plain": [
       "                 Missing\n",
       "Variable                \n",
       "Tenure              1394\n",
       "Matric              1008\n",
       "Degree              1831\n",
       "Diploma             1809\n",
       "Schoolquintile      1661\n",
       "Math                3023\n",
       "Mathlit             2667\n",
       "Additional_lang     2002\n",
       "Home_lang           3639\n",
       "Science             3288"
      ]
     },
     "metadata": {},
     "output_type": "display_data"
    }
   ],
   "source": [
    "from IPython.display import display, Markdown\n",
    "class DataSummarizer:\n",
    "    def __init__(self, df):\n",
    "        self.df = df\n",
    "\n",
    "    def basic_info(self):\n",
    "        rows, cols = self.df.shape\n",
    "        display(Markdown(\"##  **Basic Info**\"))\n",
    "        display(Markdown(f\"- **Rows:** {rows:,}\"))\n",
    "        display(Markdown(f\"- **Columns:** {cols:,}\"))\n",
    "        display(Markdown(\"###  **Column Names**\"))\n",
    "        display(Markdown(\", \".join([f\"`{col}`\" for col in self.df.columns])))\n",
    "\n",
    "    def data_types(self):\n",
    "        display(Markdown(\"##  **Data Types Summary**\"))\n",
    "        type_counts = self.df.dtypes.value_counts().to_frame(\"Count\")\n",
    "        display(type_counts)\n",
    "\n",
    "    def variable_types(self):\n",
    "        display(Markdown(\"##  **Variable Types**\"))\n",
    "        cat_vars = self.df.select_dtypes(include=\"object\").columns\n",
    "        num_vars = self.df.select_dtypes(include=\"number\").columns\n",
    "\n",
    "        display(Markdown(\"### Categorical Variables\"))\n",
    "        if cat_vars.any():\n",
    "            display(Markdown(\", \".join([f\"`{col}`\" for col in cat_vars])))\n",
    "        else:\n",
    "            display(Markdown(\"_None_\"))\n",
    "\n",
    "        display(Markdown(\"### Numerical Variables\"))\n",
    "        if num_vars.any():\n",
    "            display(Markdown(\", \".join([f\"`{col}`\" for col in num_vars])))\n",
    "        else:\n",
    "            display(Markdown(\"_None_\"))\n",
    "\n",
    "    def missing_values(self):\n",
    "        display(Markdown(\"## **Missing Values**\"))\n",
    "        missing = self.df.isnull().sum()\n",
    "        missing = missing[missing > 0]\n",
    "        if missing.empty:\n",
    "            display(Markdown(\"_No missing values detected._\"))\n",
    "        else:\n",
    "            display(missing.to_frame(\"Missing\").rename_axis(\"Variable\"))\n",
    "\n",
    "    def summarize_all(self):\n",
    "        self.basic_info()\n",
    "        self.data_types()\n",
    "        self.variable_types()\n",
    "        self.missing_values()\n",
    "        \n",
    "summarizer = DataSummarizer(df)\n",
    "summarizer.summarize_all()\n"
   ]
  },
  {
   "cell_type": "markdown",
   "id": "836bb86f",
   "metadata": {},
   "source": [
    "### 2.\tUnivariate Analysis"
   ]
  },
  {
   "cell_type": "code",
   "execution_count": 128,
   "id": "46b4be05",
   "metadata": {},
   "outputs": [
    {
     "name": "stdout",
     "output_type": "stream",
     "text": [
      "Df dtypes:\n",
      "dtype\n",
      "float64     5\n",
      "int64       6\n",
      "object     10\n",
      "dtype: int64\n"
     ]
    }
   ],
   "source": [
    "dtypes = df.dtypes.reset_index()\n",
    "dtypes.columns = ['column_name', 'dtype']\n",
    "dtypes['dtype'] = dtypes['dtype'].astype(str)  \n",
    "print('Df dtypes:')\n",
    "print(dtypes.groupby('dtype').size())"
   ]
  },
  {
   "cell_type": "markdown",
   "id": "a5ebb365",
   "metadata": {},
   "source": [
    "#####  numerical variables"
   ]
  },
  {
   "cell_type": "code",
   "execution_count": 129,
   "id": "38a1dd8b",
   "metadata": {},
   "outputs": [
    {
     "name": "stdout",
     "output_type": "stream",
     "text": [
      "                 count         mean         std     min     25%     50%  \\\n",
      "Round           4020.0     3.129851    0.978014     1.0     2.0     3.0   \n",
      "Tenure          2626.0   582.883092  621.220657     0.0    95.0   395.0   \n",
      "Matric          3012.0     0.850598    0.356544     0.0     1.0     1.0   \n",
      "Degree          2189.0     0.078118    0.268418     0.0     0.0     0.0   \n",
      "Diploma         2211.0     0.081411    0.273527     0.0     0.0     0.0   \n",
      "Schoolquintile  2359.0     2.696482    1.318409     0.0     2.0     3.0   \n",
      "Female          4020.0     0.564428    0.495893     0.0     0.0     1.0   \n",
      "Sa_citizen      4020.0     0.999502    0.022302     0.0     1.0     1.0   \n",
      "Birthyear       4020.0  1997.462935    4.378334  1972.0  1995.0  1999.0   \n",
      "Birthmonth      4020.0     5.344030    3.805916     1.0     1.0     5.0   \n",
      "Target          4020.0     0.271891    0.444989     0.0     0.0     0.0   \n",
      "\n",
      "                   75%     max  \n",
      "Round              4.0     4.0  \n",
      "Tenure           819.0  3560.0  \n",
      "Matric             1.0     1.0  \n",
      "Degree             0.0     1.0  \n",
      "Diploma            0.0     1.0  \n",
      "Schoolquintile     4.0     5.0  \n",
      "Female             1.0     1.0  \n",
      "Sa_citizen         1.0     1.0  \n",
      "Birthyear       2000.0  2004.0  \n",
      "Birthmonth         9.0    12.0  \n",
      "Target             1.0     1.0  \n"
     ]
    }
   ],
   "source": [
    "def numeric_analysis(df):\n",
    "        return print(df.describe().T)\n",
    "numeric_analysis(df)"
   ]
  },
  {
   "cell_type": "code",
   "execution_count": null,
   "id": "dfe4eb4b",
   "metadata": {},
   "outputs": [],
   "source": [
    "import ipywidgets as widgets\n",
    "from IPython.display import display\n",
    "import warnings\n",
    "\n",
    "warnings.filterwarnings(\"ignore\", category=UserWarning)\n",
    "warnings.filterwarnings(\"ignore\", category=FutureWarning)\n",
    "\n",
    "def univariate_analysis_dropdown(df):\n",
    "    numeric_cols = df.select_dtypes(include=['number']).columns.tolist()\n",
    "\n",
    "    if not numeric_cols:\n",
    "        print(\"No numeric variables found.\")\n",
    "        return\n",
    "\n",
    "    dropdown = widgets.Dropdown(\n",
    "        options=numeric_cols,\n",
    "        description='Variable:',\n",
    "        style={'description_width': 'initial'},\n",
    "        layout=widgets.Layout(width='50%')\n",
    "    )\n",
    "\n",
    "    output = widgets.Output()\n",
    "\n",
    "    def plot_variable(change):\n",
    "        output.clear_output()\n",
    "        col = change['new']\n",
    "\n",
    "        with output:\n",
    "            fig, axes = plt.subplots(2, 2, figsize=(14, 10))\n",
    "            fig.suptitle(f'Distribution of \"{col}\"', fontsize=18, fontweight='bold', y=1.02)\n",
    "            plt.subplots_adjust(hspace=0.4)\n",
    "\n",
    "            # Bar Plot (if few unique values)\n",
    "            if df[col].nunique() < 20:\n",
    "                sns.barplot(\n",
    "                    x=df[col].value_counts().index,\n",
    "                    y=df[col].value_counts().values,\n",
    "                    palette=\"magma\",\n",
    "                    ax=axes[0, 0]\n",
    "                )\n",
    "                axes[0, 0].set_title('Bar Chart')\n",
    "                axes[0, 0].set_xlabel(col)\n",
    "                axes[0, 0].set_ylabel('Frequency')\n",
    "            else:\n",
    "                axes[0, 0].axis('off')\n",
    "                axes[0, 0].text(0.5, 0.5, \"Too many unique values for a bar chart\",\n",
    "                                ha='center', va='center', fontsize=10, color='gray')\n",
    "\n",
    "            # Box Plot\n",
    "            sns.boxplot(y=df[col], palette=\"coolwarm\", ax=axes[0, 1])\n",
    "            axes[0, 1].set_title(\"Box Plot\")\n",
    "            axes[0, 1].set_xlabel(\"\")\n",
    "            axes[0, 1].set_ylabel(col)\n",
    "\n",
    "            # KDE Plot\n",
    "            sns.kdeplot(df[col].dropna(), fill=True, color=\"skyblue\", ax=axes[1, 0])\n",
    "            axes[1, 0].set_title(\"Density Plot (KDE)\")\n",
    "            axes[1, 0].set_xlabel(col)\n",
    "            axes[1, 0].set_ylabel(\"Density\")\n",
    "\n",
    "            # Histogram\n",
    "            sns.histplot(df[col].dropna(), bins=30, kde=False, color=\"teal\", ax=axes[1, 1])\n",
    "            axes[1, 1].set_title(\"Histogram\")\n",
    "            axes[1, 1].set_xlabel(col)\n",
    "            axes[1, 1].set_ylabel(\"Frequency\")\n",
    "\n",
    "            plt.tight_layout(rect=[0, 0, 1, 0.95])\n",
    "            plt.show()\n",
    "\n",
    "    dropdown.observe(plot_variable, names='value')\n",
    "    display(dropdown, output)\n",
    "    dropdown.value = numeric_cols[0] \n"
   ]
  },
  {
   "cell_type": "code",
   "execution_count": 131,
   "id": "428e9c2a",
   "metadata": {},
   "outputs": [
    {
     "data": {
      "application/vnd.jupyter.widget-view+json": {
       "model_id": "4e96b4180b8a45688dcdf7b82d561ba7",
       "version_major": 2,
       "version_minor": 0
      },
      "text/plain": [
       "Dropdown(description='Variable:', layout=Layout(width='50%'), options=('Round', 'Tenure', 'Matric', 'Degree', …"
      ]
     },
     "metadata": {},
     "output_type": "display_data"
    },
    {
     "data": {
      "application/vnd.jupyter.widget-view+json": {
       "model_id": "7fd5a26f9a4d49c8881338aba94b2683",
       "version_major": 2,
       "version_minor": 0
      },
      "text/plain": [
       "Output()"
      ]
     },
     "metadata": {},
     "output_type": "display_data"
    },
    {
     "data": {
      "image/png": "[encoded data removed]",
      "text/plain": [
       "<Figure size 1400x1000 with 4 Axes>"
      ]
     },
     "metadata": {},
     "output_type": "display_data"
    }
   ],
   "source": [
    "univariate_analysis_dropdown(df)"
   ]
  },
  {
   "cell_type": "markdown",
   "id": "8d9400d5",
   "metadata": {},
   "source": [
    "#####  categorical data "
   ]
  },
  {
   "cell_type": "code",
   "execution_count": 132,
   "id": "24eeb918",
   "metadata": {},
   "outputs": [
    {
     "name": "stdout",
     "output_type": "stream",
     "text": [
      "                count unique            top  freq\n",
      "Person_id        4020   4020  Id_eqz61wz7yn     1\n",
      "Survey_date      4020     79     2023-02-13   121\n",
      "Status           4020      7     unemployed  1775\n",
      "Geography        4020      3          Urban  2797\n",
      "Province         4020      9        Gauteng  1170\n",
      "Math              997      7       0 - 29 %   321\n",
      "Mathlit          1353      7      40 - 49 %   420\n",
      "Additional_lang  2018      6      50 - 59 %   820\n",
      "Home_lang         381      6      50 - 59 %   140\n",
      "Science           732      7      30 - 39 %   263\n"
     ]
    }
   ],
   "source": [
    "def categorical_analysis(df):\n",
    "    return print(df.select_dtypes(include='object').describe().T)\n",
    "categorical_analysis(df)"
   ]
  },
  {
   "cell_type": "code",
   "execution_count": 133,
   "id": "1a4a6527",
   "metadata": {},
   "outputs": [],
   "source": [
    "warnings.filterwarnings(\"ignore\", category=UserWarning)\n",
    "warnings.filterwarnings(\"ignore\", category=FutureWarning)\n",
    "\n",
    "def univariate_analysis_dropdown_categorical(df):\n",
    "    exclude_cols = {'user_id'}\n",
    "    categorical_cols = [col for col in df.select_dtypes(include=['object', 'category']).columns if col not in exclude_cols]\n",
    "\n",
    "    dropdown = widgets.Dropdown(\n",
    "        options=categorical_cols,\n",
    "        description='Variable:',\n",
    "        style={'description_width': 'initial'},\n",
    "        layout=widgets.Layout(width='50%')\n",
    "    )\n",
    "\n",
    "    output = widgets.Output()\n",
    "\n",
    "    def plot_categorical(change):\n",
    "        output.clear_output()\n",
    "        col = change['new']\n",
    "        col_data = df[col].dropna()\n",
    "\n",
    "        with output:\n",
    "            fig, axes = plt.subplots(1, 2, figsize=(15, 6))\n",
    "            fig.suptitle(f'Analyse Univariée de {col}', fontsize=16, fontweight='bold')\n",
    "\n",
    "            sns.countplot(\n",
    "                x=col_data,\n",
    "                order=col_data.value_counts().index,\n",
    "                palette=\"viridis\",\n",
    "                ax=axes[0]\n",
    "            )\n",
    "            axes[0].set_title('Count Plot')\n",
    "            axes[0].set_xlabel(col)\n",
    "            axes[0].set_ylabel('Fréquence')\n",
    "            axes[0].tick_params(axis='x', rotation=45)\n",
    "\n",
    "            # Pie Chart\n",
    "            explode_values = [0.05] * len(col_data.unique())\n",
    "            col_data.value_counts().plot.pie(\n",
    "                autopct='%1.1f%%',\n",
    "                colors=sns.color_palette(\"viridis\", len(col_data.unique())),\n",
    "                explode=explode_values,\n",
    "                ax=axes[1]\n",
    "            )\n",
    "            axes[1].set_title('Pie Chart')\n",
    "            axes[1].set_ylabel('')\n",
    "\n",
    "            plt.tight_layout()\n",
    "            plt.show()\n",
    "\n",
    "    dropdown.observe(plot_categorical, names='value')\n",
    "    \n",
    "    display(dropdown, output)\n",
    "    if categorical_cols:\n",
    "        dropdown.value = categorical_cols[0]\n",
    "    else:\n",
    "        print(\"Aucune variable catégorielle valide trouvée.\")"
   ]
  },
  {
   "cell_type": "code",
   "execution_count": 134,
   "id": "e3a6ad02",
   "metadata": {},
   "outputs": [
    {
     "data": {
      "application/vnd.jupyter.widget-view+json": {
       "model_id": "6523ac1e195a407eb934ba029260b52d",
       "version_major": 2,
       "version_minor": 0
      },
      "text/plain": [
       "Dropdown(description='Variable:', layout=Layout(width='50%'), options=('Person_id', 'Survey_date', 'Status', '…"
      ]
     },
     "metadata": {},
     "output_type": "display_data"
    },
    {
     "data": {
      "application/vnd.jupyter.widget-view+json": {
       "model_id": "8fd5d37cd5a7423695d9345bb24e9a73",
       "version_major": 2,
       "version_minor": 0
      },
      "text/plain": [
       "Output()"
      ]
     },
     "metadata": {},
     "output_type": "display_data"
    }
   ],
   "source": [
    "univariate_analysis_dropdown_categorical(df)"
   ]
  },
  {
   "cell_type": "markdown",
   "id": "9728097f",
   "metadata": {},
   "source": [
    "### 3.\tBivariate Analysis"
   ]
  },
  {
   "cell_type": "code",
   "execution_count": 135,
   "id": "81771f40",
   "metadata": {},
   "outputs": [
    {
     "name": "stdout",
     "output_type": "stream",
     "text": [
      "Target\n",
      "0    72.810945\n",
      "1    27.189055\n",
      "Name: proportion, dtype: float64\n"
     ]
    }
   ],
   "source": [
    "print(df['Target'].value_counts(normalize=True) * 100)\n",
    "target='Target'"
   ]
  },
  {
   "cell_type": "markdown",
   "id": "1c08f30f",
   "metadata": {},
   "source": [
    "#### multivariate analysis with respect to the target variable"
   ]
  },
  {
   "cell_type": "code",
   "execution_count": 136,
   "id": "32c37360",
   "metadata": {},
   "outputs": [],
   "source": [
    "import warnings\n",
    "import seaborn as sns\n",
    "import matplotlib.pyplot as plt\n",
    "import ipywidgets as widgets\n",
    "from IPython.display import display\n",
    "\n",
    "warnings.filterwarnings(\"ignore\", category=UserWarning)\n",
    "warnings.filterwarnings(\"ignore\", category=FutureWarning)\n",
    "\n",
    "def multivariate_analysis_interactive(df, target, sample_frac=0.3):\n",
    "    categorical_cols = df.select_dtypes(include=['object', 'category']).columns\n",
    "    numeric_cols = df.select_dtypes(include=['float64','int64']).drop(columns=[target], errors='ignore').columns\n",
    "\n",
    "    cat_dropdown = widgets.Dropdown(\n",
    "        options=categorical_cols,\n",
    "        description='Catégorie vs Target',\n",
    "        layout=widgets.Layout(width='60%')\n",
    "    )\n",
    "    \n",
    "    num_dropdown = widgets.Dropdown(\n",
    "        options=numeric_cols,\n",
    "        description='Numérique vs Target',\n",
    "        layout=widgets.Layout(width='60%')\n",
    "    )\n",
    "\n",
    "    cat_output = widgets.Output()\n",
    "    num_output = widgets.Output()\n",
    "\n",
    "    def update_cat_plot(change):\n",
    "        col = change['new']\n",
    "        cat_output.clear_output()\n",
    "        with cat_output:\n",
    "            modalities = df[col].dropna().unique()\n",
    "            n = len(modalities)\n",
    "            fig, axes = plt.subplots(1, n, figsize=(6 * n, 5), sharey=True)\n",
    "            if n == 1:\n",
    "                axes = [axes]\n",
    "            for i, modality in enumerate(modalities):\n",
    "                subset = df[df[col] == modality]\n",
    "                sns.histplot(subset[target], kde=True, ax=axes[i], color='skyblue')\n",
    "                axes[i].set_title(f\"{col} = {modality}\")\n",
    "                axes[i].set_xlabel(target)\n",
    "            plt.suptitle(f\"{target} Distribution par {col}\", fontsize=16)\n",
    "            plt.tight_layout()\n",
    "            plt.show()\n",
    "\n",
    "    def update_num_plot(change):\n",
    "        col = change['new']\n",
    "        num_output.clear_output()\n",
    "        with num_output:\n",
    "            sampled_df = df.sample(frac=sample_frac, random_state=42)\n",
    "            fig, ax = plt.subplots(figsize=(8, 6))\n",
    "            sns.boxplot(data=sampled_df, x=target, y=col, palette=\"pastel\", ax=ax)\n",
    "            ax.set_title(f\"{col} Distribution by {target}\", fontsize=14)\n",
    "            ax.set_xlabel(f\"{target} (0 = No, 1 = Yes)\")\n",
    "            ax.set_ylabel(col)\n",
    "            plt.tight_layout()\n",
    "            plt.show()\n",
    "\n",
    "    cat_dropdown.observe(update_cat_plot, names='value')\n",
    "    num_dropdown.observe(update_num_plot, names='value')\n",
    "\n",
    "    display(widgets.HTML(\"<h3>Analyse Multivariée : Catégorielle vs Target</h3>\"))\n",
    "    display(cat_dropdown, cat_output)\n",
    "    if len(categorical_cols) > 0:\n",
    "        cat_dropdown.value = categorical_cols[0]\n",
    "\n",
    "    display(widgets.HTML(\"<h3>Analyse Multivariée : Numérique vs Target</h3>\"))\n",
    "    display(num_dropdown, num_output)\n",
    "    if len(numeric_cols) > 0:\n",
    "        num_dropdown.value = numeric_cols[0]\n"
   ]
  },
  {
   "cell_type": "code",
   "execution_count": 137,
   "id": "d4089be5",
   "metadata": {},
   "outputs": [
    {
     "data": {
      "application/vnd.jupyter.widget-view+json": {
       "model_id": "e1ca8d5c59234796846d0cc5c4fe6e56",
       "version_major": 2,
       "version_minor": 0
      },
      "text/plain": [
       "HTML(value='<h3>Analyse Multivariée : Catégorielle vs Target</h3>')"
      ]
     },
     "metadata": {},
     "output_type": "display_data"
    },
    {
     "data": {
      "application/vnd.jupyter.widget-view+json": {
       "model_id": "8bf2b7ad3f3c4cd89806e859df5f1cea",
       "version_major": 2,
       "version_minor": 0
      },
      "text/plain": [
       "Dropdown(description='Catégorie vs Target', layout=Layout(width='60%'), options=('Person_id', 'Survey_date', '…"
      ]
     },
     "metadata": {},
     "output_type": "display_data"
    },
    {
     "data": {
      "application/vnd.jupyter.widget-view+json": {
       "model_id": "c4fbdeb2a62941b4abb51ddc33a11e51",
       "version_major": 2,
       "version_minor": 0
      },
      "text/plain": [
       "Output()"
      ]
     },
     "metadata": {},
     "output_type": "display_data"
    },
    {
     "data": {
      "application/vnd.jupyter.widget-view+json": {
       "model_id": "358c8064f7234cdb99e2a0839955cec7",
       "version_major": 2,
       "version_minor": 0
      },
      "text/plain": [
       "HTML(value='<h3>Analyse Multivariée : Numérique vs Target</h3>')"
      ]
     },
     "metadata": {},
     "output_type": "display_data"
    },
    {
     "data": {
      "application/vnd.jupyter.widget-view+json": {
       "model_id": "3b109fa40af74188bdd6804bdb96aea7",
       "version_major": 2,
       "version_minor": 0
      },
      "text/plain": [
       "Dropdown(description='Numérique vs Target', layout=Layout(width='60%'), options=('Round', 'Tenure', 'Matric', …"
      ]
     },
     "metadata": {},
     "output_type": "display_data"
    },
    {
     "data": {
      "application/vnd.jupyter.widget-view+json": {
       "model_id": "3c297f72ff394784863684f6e9d301d2",
       "version_major": 2,
       "version_minor": 0
      },
      "text/plain": [
       "Output()"
      ]
     },
     "metadata": {},
     "output_type": "display_data"
    }
   ],
   "source": [
    "multivariate_analysis_interactive(df, target)"
   ]
  },
  {
   "cell_type": "markdown",
   "id": "8d505a9f",
   "metadata": {},
   "source": [
    "####  Advanced analysis"
   ]
  },
  {
   "cell_type": "code",
   "execution_count": 138,
   "id": "e25527e7",
   "metadata": {},
   "outputs": [],
   "source": [
    "def bar_plot_combinations_interactive(df, target):\n",
    "\n",
    "    categorical_cols = df.select_dtypes(include=['object', 'category']).columns.tolist()\n",
    "    numeric_cols = df.select_dtypes(include=['number']).columns.tolist()\n",
    "\n",
    "    if target in categorical_cols:\n",
    "        categorical_cols.remove(target)\n",
    "    if target in numeric_cols:\n",
    "        numeric_cols.remove(target)\n",
    "\n",
    "    cat_dropdown = widgets.Dropdown(options=categorical_cols, description=\"Catégorie\", layout=widgets.Layout(width=\"45%\"))\n",
    "    num_dropdown = widgets.Dropdown(options=numeric_cols, description=\"Numérique\", layout=widgets.Layout(width=\"45%\"))\n",
    "\n",
    "    output_plot = widgets.Output()\n",
    "\n",
    "    def update_plot(change=None):\n",
    "        cat_col = cat_dropdown.value\n",
    "        num_col = num_dropdown.value\n",
    "        output_plot.clear_output()\n",
    "\n",
    "        with output_plot:\n",
    "            if not cat_col or not num_col:\n",
    "                print(\"Veuillez sélectionner une variable catégorielle et une numérique.\")\n",
    "                return\n",
    "\n",
    "            plt.figure(figsize=(10, 6))\n",
    "            sns.barplot(data=df, x=num_col, y=target, hue=cat_col, palette=\"viridis\", alpha=0.6)\n",
    "            plt.title(f\"{target} vs {num_col} by {cat_col}\")\n",
    "            plt.xlabel(num_col)\n",
    "            plt.ylabel(target)\n",
    "            plt.legend(title=cat_col)\n",
    "            plt.tight_layout()\n",
    "            plt.show()\n",
    "\n",
    "    cat_dropdown.observe(update_plot, names=\"value\")\n",
    "    num_dropdown.observe(update_plot, names=\"value\")\n",
    "\n",
    "    display(widgets.HTML(\"<h3>Analyse : bar Plot avec Cible, Numérique et Catégorie</h3>\"))\n",
    "    display(widgets.HBox([cat_dropdown, num_dropdown]))\n",
    "    display(output_plot)\n",
    "\n",
    "    if categorical_cols and numeric_cols:\n",
    "        cat_dropdown.value = categorical_cols[0]\n",
    "        num_dropdown.value = numeric_cols[0]"
   ]
  },
  {
   "cell_type": "code",
   "execution_count": 139,
   "id": "f17177d2",
   "metadata": {},
   "outputs": [
    {
     "data": {
      "application/vnd.jupyter.widget-view+json": {
       "model_id": "131f2207b98f4efba1577aafae376f07",
       "version_major": 2,
       "version_minor": 0
      },
      "text/plain": [
       "HTML(value='<h3>Analyse : bar Plot avec Cible, Numérique et Catégorie</h3>')"
      ]
     },
     "metadata": {},
     "output_type": "display_data"
    },
    {
     "data": {
      "application/vnd.jupyter.widget-view+json": {
       "model_id": "6c05bbbc934541729f1ad24c9142f778",
       "version_major": 2,
       "version_minor": 0
      },
      "text/plain": [
       "HBox(children=(Dropdown(description='Catégorie', layout=Layout(width='45%'), options=('Person_id', 'Survey_dat…"
      ]
     },
     "metadata": {},
     "output_type": "display_data"
    },
    {
     "data": {
      "application/vnd.jupyter.widget-view+json": {
       "model_id": "b6c91578b9c143fba4bb1e270ddf507f",
       "version_major": 2,
       "version_minor": 0
      },
      "text/plain": [
       "Output()"
      ]
     },
     "metadata": {},
     "output_type": "display_data"
    }
   ],
   "source": [
    "bar_plot_combinations_interactive(df, target)"
   ]
  },
  {
   "cell_type": "markdown",
   "id": "7236539e",
   "metadata": {},
   "source": [
    "#### correlation matrix"
   ]
  },
  {
   "cell_type": "code",
   "execution_count": 140,
   "id": "ad4314f4",
   "metadata": {},
   "outputs": [],
   "source": [
    "import os\n",
    "import numpy as np\n",
    "import pandas as pd\n",
    "import matplotlib.pyplot as plt\n",
    "import seaborn as sns\n",
    "from scipy.stats import pearsonr\n",
    "import matplotlib.patches as mpatches\n",
    "\n",
    "def correlation_and_significance(numeric_df, base_folder=\"correlation_analysis\"):\n",
    "    if not os.path.exists(base_folder):\n",
    "        os.makedirs(base_folder)\n",
    "    \n",
    "    cols = numeric_df.columns\n",
    "    corr_matrix = numeric_df.corr()\n",
    "    p_values = pd.DataFrame(np.ones((len(cols), len(cols))), columns=cols, index=cols)\n",
    "    \n",
    "    for row in cols:\n",
    "        for col in cols:\n",
    "            if row != col:\n",
    "                _, p_value = pearsonr(numeric_df[row], numeric_df[col])\n",
    "                p_values.loc[row, col] = p_value\n",
    "    \n",
    "    plt.figure(figsize=(14, 12))\n",
    "    sns.heatmap(corr_matrix, annot=True, cmap='coolwarm', fmt='.2f', linewidths=0.5)\n",
    "    \n",
    "    for i in range(len(cols)):\n",
    "        for j in range(len(cols)):\n",
    "            if i != j:\n",
    "                p_val = p_values.iloc[i, j]\n",
    "                x = j + 0.5\n",
    "                y = i + 0.5\n",
    "                color = 'green' if p_val < 0.05 else 'red'\n",
    "                plt.plot(x, y, 'o', color=color, markersize=8)\n",
    "    \n",
    "    green_patch = mpatches.Patch(color='green', label='Significant (p < 0.05)')\n",
    "    red_patch = mpatches.Patch(color='red', label='Not Significant (p ≥ 0.05)')\n",
    "    plt.legend(handles=[green_patch, red_patch], loc='upper left', bbox_to_anchor=(1.05, 1))\n",
    "    \n",
    "    plt.title('Correlation Matrix with Significance (Numerical Variables)', fontsize=18)\n",
    "    plt.xticks(rotation=45)\n",
    "    plt.yticks(rotation=0)\n",
    "    plt.tight_layout()\n",
    "\n",
    "    corr_plot_path = os.path.join(base_folder, \"correlation_matrix_significance.png\")\n",
    "    plt.savefig(corr_plot_path, bbox_inches='tight')\n",
    "    plt.close()\n",
    "    \n",
    "    print(f\"Correlation matrix with significance saved in: {corr_plot_path}\")\n",
    "\n",
    "    return corr_matrix, p_values, corr_plot_path\n"
   ]
  },
  {
   "cell_type": "markdown",
   "id": "72d69950",
   "metadata": {},
   "source": [
    "### 4.\tData Cleaning"
   ]
  },
  {
   "cell_type": "markdown",
   "id": "2fbb4c0c",
   "metadata": {},
   "source": [
    "#### data issues"
   ]
  },
  {
   "cell_type": "code",
   "execution_count": 141,
   "id": "bf97eb03",
   "metadata": {},
   "outputs": [],
   "source": [
    "import pandas as pd\n",
    "import numpy as np\n",
    "\n",
    "class DataCleaner:\n",
    "    def __init__(self, df):\n",
    "        self.df = df\n",
    "\n",
    "    def clean_tenure(self):\n",
    "        \"\"\"Tenure doit être un nombre positif (mois). Supprime les valeurs aberrantes.\"\"\"\n",
    "        self.df['Tenure'] = pd.to_numeric(self.df['Tenure'], errors='coerce')\n",
    "        self.df['Tenure'] = self.df['Tenure'].apply(lambda x: x if x >= 0 and x <= 120 else np.nan)  # Supprime si > 10 ans\n",
    "        \n",
    "    def clean_all(self):\n",
    "        self.clean_tenure()\n",
    "        return self.df\n",
    "if __name__ == \"__main__\":    \n",
    "    cleaner = DataCleaner(df)\n",
    "    df = cleaner.clean_all()\n",
    "    df"
   ]
  },
  {
   "cell_type": "markdown",
   "id": "7e832857",
   "metadata": {},
   "source": [
    "#### missing values "
   ]
  },
  {
   "cell_type": "markdown",
   "id": "2981ab09",
   "metadata": {},
   "source": [
    "#####  Steps to Handle Missing Values\n",
    "**Step 1**: Drop columns with too many missing values\n",
    "\n",
    "**Step 2**: Replace missing values in 'Additional_lang' with 0\n",
    "\n",
    "**Step 3**: Use KNN imputation for the 'Schoolquintile' column\n",
    "\n",
    "**Step 4**: Impute missing values with the mode for 'Matric', 'Degree', and 'Diploma'\n",
    "\n",
    "**Step 5**: Use MICE (Iterative Imputer) to impute missing values in 'Tenure'"
   ]
  },
  {
   "cell_type": "code",
   "execution_count": 142,
   "id": "085fb37f",
   "metadata": {},
   "outputs": [],
   "source": [
    "from sklearn.experimental import enable_iterative_imputer  \n",
    "from sklearn.impute import SimpleImputer, KNNImputer, IterativeImputer\n",
    "class MissingDataHandler:\n",
    "    def __init__(self, df):\n",
    "        self.df = df\n",
    "        \n",
    "    def apply_custom_strategy(self):\n",
    "        \"\"\"Applique la stratégie personnalisée de traitement des valeurs manquantes.\"\"\"\n",
    "        \n",
    "        \n",
    "        cols_to_drop = ['Math', 'Science', 'Home_lang', 'Mathlit']\n",
    "        self.df.drop(columns=cols_to_drop, inplace=True, errors='ignore')\n",
    "\n",
    "        if 'Additional_lang' in self.df.columns:\n",
    "            self.df['Additional_lang'].fillna(\"0%\", inplace=True)\n",
    "\n",
    "        if 'Schoolquintile' in self.df.columns:\n",
    "            knn_imputer = KNNImputer(n_neighbors=5)\n",
    "            self.df[['Schoolquintile']] = knn_imputer.fit_transform(self.df[['Schoolquintile']])\n",
    "\n",
    "        for col in ['Matric', 'Degree', 'Diploma']:\n",
    "            if col in self.df.columns:\n",
    "                mode_val = self.df[col].mode()[0]\n",
    "                self.df[col].fillna(mode_val, inplace=True)\n",
    "\n",
    "        if 'Tenure' in self.df.columns:\n",
    "            iter_imputer = IterativeImputer()\n",
    "            self.df[['Tenure']] = iter_imputer.fit_transform(self.df[['Tenure']])\n",
    "    def get_dataframe(self):\n",
    "        \"\"\"Return the processed DataFrame.\"\"\"\n",
    "        return self.df\n"
   ]
  },
  {
   "cell_type": "code",
   "execution_count": 143,
   "id": "3162e6af",
   "metadata": {},
   "outputs": [],
   "source": [
    "handler = MissingDataHandler(df)\n",
    "handler.apply_custom_strategy()\n",
    "df = handler.get_dataframe()\n"
   ]
  },
  {
   "cell_type": "markdown",
   "id": "ad911907",
   "metadata": {},
   "source": [
    "####  Removing duplicates rows"
   ]
  },
  {
   "cell_type": "code",
   "execution_count": 144,
   "id": "90c62c14",
   "metadata": {},
   "outputs": [
    {
     "name": "stdout",
     "output_type": "stream",
     "text": [
      "Total Rows: 4020\n",
      "Duplicate Rows: 0 (0.00%)\n",
      "No duplicates found. No rows removed.\n"
     ]
    },
    {
     "data": {
      "text/html": [
       "<div>\n",
       "<style scoped>\n",
       "    .dataframe tbody tr th:only-of-type {\n",
       "        vertical-align: middle;\n",
       "    }\n",
       "\n",
       "    .dataframe tbody tr th {\n",
       "        vertical-align: top;\n",
       "    }\n",
       "\n",
       "    .dataframe thead th {\n",
       "        text-align: right;\n",
       "    }\n",
       "</style>\n",
       "<table border=\"1\" class=\"dataframe\">\n",
       "  <thead>\n",
       "    <tr style=\"text-align: right;\">\n",
       "      <th></th>\n",
       "      <th>Person_id</th>\n",
       "      <th>Survey_date</th>\n",
       "      <th>Round</th>\n",
       "      <th>Status</th>\n",
       "      <th>Tenure</th>\n",
       "      <th>Geography</th>\n",
       "      <th>Province</th>\n",
       "      <th>Matric</th>\n",
       "      <th>Degree</th>\n",
       "      <th>Diploma</th>\n",
       "      <th>Schoolquintile</th>\n",
       "      <th>Additional_lang</th>\n",
       "      <th>Female</th>\n",
       "      <th>Sa_citizen</th>\n",
       "      <th>Birthyear</th>\n",
       "      <th>Birthmonth</th>\n",
       "      <th>Target</th>\n",
       "    </tr>\n",
       "  </thead>\n",
       "  <tbody>\n",
       "    <tr>\n",
       "      <th>0</th>\n",
       "      <td>Id_eqz61wz7yn</td>\n",
       "      <td>2022-02-23</td>\n",
       "      <td>2</td>\n",
       "      <td>studying</td>\n",
       "      <td>45.958042</td>\n",
       "      <td>Rural</td>\n",
       "      <td>Mpumalanga</td>\n",
       "      <td>1.0</td>\n",
       "      <td>0.0</td>\n",
       "      <td>0.0</td>\n",
       "      <td>3.000000</td>\n",
       "      <td>50 - 59 %</td>\n",
       "      <td>1</td>\n",
       "      <td>1</td>\n",
       "      <td>2000</td>\n",
       "      <td>5</td>\n",
       "      <td>0</td>\n",
       "    </tr>\n",
       "    <tr>\n",
       "      <th>1</th>\n",
       "      <td>Id_kj5k3g5wud</td>\n",
       "      <td>2023-02-06</td>\n",
       "      <td>4</td>\n",
       "      <td>unemployed</td>\n",
       "      <td>45.958042</td>\n",
       "      <td>Suburb</td>\n",
       "      <td>North West</td>\n",
       "      <td>1.0</td>\n",
       "      <td>0.0</td>\n",
       "      <td>0.0</td>\n",
       "      <td>1.000000</td>\n",
       "      <td>40 - 49 %</td>\n",
       "      <td>1</td>\n",
       "      <td>1</td>\n",
       "      <td>1989</td>\n",
       "      <td>4</td>\n",
       "      <td>1</td>\n",
       "    </tr>\n",
       "    <tr>\n",
       "      <th>2</th>\n",
       "      <td>Id_9h0isj38y4</td>\n",
       "      <td>2022-08-08</td>\n",
       "      <td>3</td>\n",
       "      <td>other</td>\n",
       "      <td>45.958042</td>\n",
       "      <td>Urban</td>\n",
       "      <td>Free State</td>\n",
       "      <td>1.0</td>\n",
       "      <td>0.0</td>\n",
       "      <td>0.0</td>\n",
       "      <td>2.696482</td>\n",
       "      <td>40 - 49 %</td>\n",
       "      <td>0</td>\n",
       "      <td>1</td>\n",
       "      <td>1996</td>\n",
       "      <td>7</td>\n",
       "      <td>1</td>\n",
       "    </tr>\n",
       "    <tr>\n",
       "      <th>3</th>\n",
       "      <td>Id_5ch3zwpdef</td>\n",
       "      <td>2022-03-16</td>\n",
       "      <td>2</td>\n",
       "      <td>unemployed</td>\n",
       "      <td>45.958042</td>\n",
       "      <td>Urban</td>\n",
       "      <td>Eastern Cape</td>\n",
       "      <td>1.0</td>\n",
       "      <td>0.0</td>\n",
       "      <td>0.0</td>\n",
       "      <td>2.696482</td>\n",
       "      <td>0%</td>\n",
       "      <td>0</td>\n",
       "      <td>1</td>\n",
       "      <td>2000</td>\n",
       "      <td>1</td>\n",
       "      <td>0</td>\n",
       "    </tr>\n",
       "    <tr>\n",
       "      <th>4</th>\n",
       "      <td>Id_g4elxibjej</td>\n",
       "      <td>2023-03-22</td>\n",
       "      <td>4</td>\n",
       "      <td>studying</td>\n",
       "      <td>45.958042</td>\n",
       "      <td>Urban</td>\n",
       "      <td>Limpopo</td>\n",
       "      <td>1.0</td>\n",
       "      <td>0.0</td>\n",
       "      <td>0.0</td>\n",
       "      <td>2.696482</td>\n",
       "      <td>0%</td>\n",
       "      <td>1</td>\n",
       "      <td>1</td>\n",
       "      <td>1998</td>\n",
       "      <td>12</td>\n",
       "      <td>0</td>\n",
       "    </tr>\n",
       "    <tr>\n",
       "      <th>...</th>\n",
       "      <td>...</td>\n",
       "      <td>...</td>\n",
       "      <td>...</td>\n",
       "      <td>...</td>\n",
       "      <td>...</td>\n",
       "      <td>...</td>\n",
       "      <td>...</td>\n",
       "      <td>...</td>\n",
       "      <td>...</td>\n",
       "      <td>...</td>\n",
       "      <td>...</td>\n",
       "      <td>...</td>\n",
       "      <td>...</td>\n",
       "      <td>...</td>\n",
       "      <td>...</td>\n",
       "      <td>...</td>\n",
       "      <td>...</td>\n",
       "    </tr>\n",
       "    <tr>\n",
       "      <th>4015</th>\n",
       "      <td>Id_3lxfvtmbkr</td>\n",
       "      <td>2023-02-13</td>\n",
       "      <td>4</td>\n",
       "      <td>wage employed</td>\n",
       "      <td>45.958042</td>\n",
       "      <td>Rural</td>\n",
       "      <td>Limpopo</td>\n",
       "      <td>1.0</td>\n",
       "      <td>0.0</td>\n",
       "      <td>0.0</td>\n",
       "      <td>2.000000</td>\n",
       "      <td>50 - 59 %</td>\n",
       "      <td>1</td>\n",
       "      <td>1</td>\n",
       "      <td>2000</td>\n",
       "      <td>1</td>\n",
       "      <td>0</td>\n",
       "    </tr>\n",
       "    <tr>\n",
       "      <th>4016</th>\n",
       "      <td>Id_u3uc3v9pts</td>\n",
       "      <td>2023-02-02</td>\n",
       "      <td>4</td>\n",
       "      <td>unemployed</td>\n",
       "      <td>45.958042</td>\n",
       "      <td>Urban</td>\n",
       "      <td>Gauteng</td>\n",
       "      <td>1.0</td>\n",
       "      <td>0.0</td>\n",
       "      <td>1.0</td>\n",
       "      <td>2.696482</td>\n",
       "      <td>60 - 69 %</td>\n",
       "      <td>0</td>\n",
       "      <td>1</td>\n",
       "      <td>1999</td>\n",
       "      <td>3</td>\n",
       "      <td>0</td>\n",
       "    </tr>\n",
       "    <tr>\n",
       "      <th>4017</th>\n",
       "      <td>Id_enkksj5q5r</td>\n",
       "      <td>2023-03-20</td>\n",
       "      <td>4</td>\n",
       "      <td>unemployed</td>\n",
       "      <td>45.958042</td>\n",
       "      <td>Urban</td>\n",
       "      <td>KwaZulu-Natal</td>\n",
       "      <td>0.0</td>\n",
       "      <td>0.0</td>\n",
       "      <td>0.0</td>\n",
       "      <td>1.000000</td>\n",
       "      <td>0%</td>\n",
       "      <td>1</td>\n",
       "      <td>1</td>\n",
       "      <td>1991</td>\n",
       "      <td>10</td>\n",
       "      <td>0</td>\n",
       "    </tr>\n",
       "    <tr>\n",
       "      <th>4018</th>\n",
       "      <td>Id_3rtpd7kc1g</td>\n",
       "      <td>2022-03-15</td>\n",
       "      <td>2</td>\n",
       "      <td>studying</td>\n",
       "      <td>45.958042</td>\n",
       "      <td>Urban</td>\n",
       "      <td>Eastern Cape</td>\n",
       "      <td>1.0</td>\n",
       "      <td>0.0</td>\n",
       "      <td>0.0</td>\n",
       "      <td>3.000000</td>\n",
       "      <td>60 - 69 %</td>\n",
       "      <td>1</td>\n",
       "      <td>1</td>\n",
       "      <td>2000</td>\n",
       "      <td>1</td>\n",
       "      <td>1</td>\n",
       "    </tr>\n",
       "    <tr>\n",
       "      <th>4019</th>\n",
       "      <td>Id_d8hb0i7g0r</td>\n",
       "      <td>2023-02-28</td>\n",
       "      <td>4</td>\n",
       "      <td>unemployed</td>\n",
       "      <td>45.958042</td>\n",
       "      <td>Urban</td>\n",
       "      <td>KwaZulu-Natal</td>\n",
       "      <td>1.0</td>\n",
       "      <td>0.0</td>\n",
       "      <td>0.0</td>\n",
       "      <td>2.696482</td>\n",
       "      <td>0%</td>\n",
       "      <td>0</td>\n",
       "      <td>1</td>\n",
       "      <td>2003</td>\n",
       "      <td>10</td>\n",
       "      <td>1</td>\n",
       "    </tr>\n",
       "  </tbody>\n",
       "</table>\n",
       "<p>4020 rows × 17 columns</p>\n",
       "</div>"
      ],
      "text/plain": [
       "          Person_id Survey_date  Round         Status     Tenure Geography  \\\n",
       "0     Id_eqz61wz7yn  2022-02-23      2       studying  45.958042     Rural   \n",
       "1     Id_kj5k3g5wud  2023-02-06      4     unemployed  45.958042    Suburb   \n",
       "2     Id_9h0isj38y4  2022-08-08      3          other  45.958042     Urban   \n",
       "3     Id_5ch3zwpdef  2022-03-16      2     unemployed  45.958042     Urban   \n",
       "4     Id_g4elxibjej  2023-03-22      4       studying  45.958042     Urban   \n",
       "...             ...         ...    ...            ...        ...       ...   \n",
       "4015  Id_3lxfvtmbkr  2023-02-13      4  wage employed  45.958042     Rural   \n",
       "4016  Id_u3uc3v9pts  2023-02-02      4     unemployed  45.958042     Urban   \n",
       "4017  Id_enkksj5q5r  2023-03-20      4     unemployed  45.958042     Urban   \n",
       "4018  Id_3rtpd7kc1g  2022-03-15      2       studying  45.958042     Urban   \n",
       "4019  Id_d8hb0i7g0r  2023-02-28      4     unemployed  45.958042     Urban   \n",
       "\n",
       "           Province  Matric  Degree  Diploma  Schoolquintile Additional_lang  \\\n",
       "0        Mpumalanga     1.0     0.0      0.0        3.000000       50 - 59 %   \n",
       "1        North West     1.0     0.0      0.0        1.000000       40 - 49 %   \n",
       "2        Free State     1.0     0.0      0.0        2.696482       40 - 49 %   \n",
       "3      Eastern Cape     1.0     0.0      0.0        2.696482              0%   \n",
       "4           Limpopo     1.0     0.0      0.0        2.696482              0%   \n",
       "...             ...     ...     ...      ...             ...             ...   \n",
       "4015        Limpopo     1.0     0.0      0.0        2.000000       50 - 59 %   \n",
       "4016        Gauteng     1.0     0.0      1.0        2.696482       60 - 69 %   \n",
       "4017  KwaZulu-Natal     0.0     0.0      0.0        1.000000              0%   \n",
       "4018   Eastern Cape     1.0     0.0      0.0        3.000000       60 - 69 %   \n",
       "4019  KwaZulu-Natal     1.0     0.0      0.0        2.696482              0%   \n",
       "\n",
       "      Female  Sa_citizen  Birthyear  Birthmonth  Target  \n",
       "0          1           1       2000           5       0  \n",
       "1          1           1       1989           4       1  \n",
       "2          0           1       1996           7       1  \n",
       "3          0           1       2000           1       0  \n",
       "4          1           1       1998          12       0  \n",
       "...      ...         ...        ...         ...     ...  \n",
       "4015       1           1       2000           1       0  \n",
       "4016       0           1       1999           3       0  \n",
       "4017       1           1       1991          10       0  \n",
       "4018       1           1       2000           1       1  \n",
       "4019       0           1       2003          10       1  \n",
       "\n",
       "[4020 rows x 17 columns]"
      ]
     },
     "execution_count": 144,
     "metadata": {},
     "output_type": "execute_result"
    }
   ],
   "source": [
    "def remove_duplicates(df, subset=None, keep='first', inplace=False):\n",
    "    if keep not in ['first', 'last', 'none']:\n",
    "        raise ValueError(\"keep must be one of 'first', 'last', or 'none'.\")\n",
    "    total_rows = len(df)\n",
    "    \n",
    "    duplicate_rows = df.duplicated(subset=subset, keep=False).sum()\n",
    "    percentage_duplicates = (duplicate_rows / total_rows) * 100\n",
    "    print(f\"Total Rows: {total_rows}\")\n",
    "    print(f\"Duplicate Rows: {duplicate_rows} ({percentage_duplicates:.2f}%)\")\n",
    "    if duplicate_rows == 0:\n",
    "        print(\"No duplicates found. No rows removed.\")\n",
    "        return df if not inplace else None\n",
    "    # Handle duplicate removal    if keep == 'none':\n",
    "        # Drop all duplicates and keep only unique rows\n",
    "        duplicated_mask = df.duplicated(subset=subset, keep=False)\n",
    "        result = df[~duplicated_mask]\n",
    "    else:\n",
    "        # Use pandas built-in drop_duplicates\n",
    "        result = df.drop_duplicates(subset=subset, keep=keep)\n",
    "    # Count duplicates after removal\n",
    "    remaining_rows = len(result)\n",
    "    rows_removed = total_rows - remaining_rows\n",
    "    print(f\"Rows Removed: {rows_removed}\")\n",
    "    print(f\"Remaining Rows: {remaining_rows}\")\n",
    "    if rows_removed > 0:\n",
    "        print(\"Duplicates successfully removed.\")\n",
    "    else:\n",
    "        print(\"No duplicates were removed.\")\n",
    "    if inplace:\n",
    "        df.drop_duplicates(subset=subset, keep=keep, inplace=True)\n",
    "    else:\n",
    "        return result\n",
    "remove_duplicates(df, subset=None, keep='first', inplace=False)"
   ]
  },
  {
   "cell_type": "markdown",
   "id": "bff10d50",
   "metadata": {},
   "source": [
    "#### Outliers "
   ]
  },
  {
   "cell_type": "code",
   "execution_count": 145,
   "id": "5a51febb",
   "metadata": {},
   "outputs": [
    {
     "data": {
      "text/plain": [
       "{'Round': 0,\n",
       " 'Tenure': 715,\n",
       " 'Schoolquintile': 342,\n",
       " 'Birthyear': 107,\n",
       " 'Birthmonth': 0}"
      ]
     },
     "execution_count": 145,
     "metadata": {},
     "output_type": "execute_result"
    }
   ],
   "source": [
    "import pandas as pd\n",
    "\n",
    "def count_outliers_iqr(df):\n",
    "    outliers_count = {}\n",
    "    numeric_cols = df.select_dtypes(include='number').columns\n",
    "\n",
    "    for col in numeric_cols:\n",
    "        unique_vals = df[col].dropna().unique()\n",
    "\n",
    "        # Vérifie si c'est une colonne binaire (0 et 1 uniquement)\n",
    "        if set(unique_vals).issubset({0, 1}) and len(unique_vals) <= 2:\n",
    "            continue  # Skip les colonnes binaires\n",
    "\n",
    "        Q1 = df[col].quantile(0.25)\n",
    "        Q3 = df[col].quantile(0.75)\n",
    "        IQR = Q3 - Q1\n",
    "\n",
    "        lower_bound = Q1 - 1.5 * IQR\n",
    "        upper_bound = Q3 + 1.5 * IQR\n",
    "\n",
    "        count = ((df[col] < lower_bound) | (df[col] > upper_bound)).sum()\n",
    "        outliers_count[col] = count\n",
    "\n",
    "    return outliers_count\n",
    "count_outliers_iqr(df)\n"
   ]
  },
  {
   "cell_type": "code",
   "execution_count": 146,
   "id": "a7da40e8",
   "metadata": {},
   "outputs": [],
   "source": [
    "class DataCleaner:\n",
    "    def __init__(self, df):\n",
    "        self.df = df\n",
    "        self.numeric_columns = self.df.select_dtypes(include=['number']).columns.to_list()\n",
    "\n",
    "    def remove_na_inf(self):\n",
    "        \"\"\"Replaces infinite values with NaN and drops rows containing NaN.\"\"\"\n",
    "        self.df[self.numeric_columns] = self.df[self.numeric_columns].replace([np.inf, -np.inf], np.nan).dropna()\n",
    "        print(\" NaN and infinite values removed.\")\n",
    "\n",
    "    def detect_outliers_iqr(self):\n",
    "        outliers_dict = {}\n",
    "\n",
    "        for col in self.numeric_columns:\n",
    "            Q1 = self.df[col].quantile(0.25)\n",
    "            Q3 = self.df[col].quantile(0.75)\n",
    "            IQR = Q3 - Q1\n",
    "            lower_bound = Q1 - 1.5 * IQR\n",
    "            upper_bound = Q3 + 1.5 * IQR\n",
    "\n",
    "            # Find outlier indices\n",
    "            outliers = self.df[(self.df[col] < lower_bound) | (self.df[col] > upper_bound)].index\n",
    "            outliers_dict[col] = outliers\n",
    "\n",
    "        return outliers_dict\n",
    "\n",
    "    def drop_outliers(self):\n",
    "        \"\"\"Drops rows containing outliers based on the IQR method.\"\"\"\n",
    "        outliers_dict = self.detect_outliers_iqr()\n",
    "        outlier_indices = set(index for indices in outliers_dict.values() for index in indices)\n",
    "        self.df = self.df.drop(outlier_indices)\n",
    "        print(\" Outliers removed.\")\n",
    "\n",
    "    def replace_outliers_iqr(self):\n",
    "        \"\"\"Replaces outliers with the lower and upper IQR bounds (Winsorization).\"\"\"\n",
    "        for col in self.numeric_columns:\n",
    "            Q1 = self.df[col].quantile(0.25)\n",
    "            Q3 = self.df[col].quantile(0.75)\n",
    "            IQR = Q3 - Q1\n",
    "            lower_bound = Q1 - 1.5 * IQR\n",
    "            upper_bound = Q3 + 1.5 * IQR\n",
    "\n",
    "            self.df[col] = np.where(self.df[col] < lower_bound, lower_bound, self.df[col])\n",
    "            self.df[col] = np.where(self.df[col] > upper_bound, upper_bound, self.df[col])\n",
    "        \n",
    "        print(\" Outliers replaced using IQR bounds.\")\n",
    "\n",
    "    def replace_outliers_median(self):\n",
    "        \"\"\"Replaces outliers with the column median.\"\"\"\n",
    "        for col in self.numeric_columns:\n",
    "            Q1 = self.df[col].quantile(0.25)\n",
    "            Q3 = self.df[col].quantile(0.75)\n",
    "            IQR = Q3 - Q1\n",
    "            lower_bound = Q1 - 1.5 * IQR\n",
    "            upper_bound = Q3 + 1.5 * IQR\n",
    "            median_value = self.df[col].median()\n",
    "\n",
    "            self.df[col] = np.where((self.df[col] < lower_bound) | (self.df[col] > upper_bound), median_value, self.df[col])\n",
    "        \n",
    "        print(\" Outliers replaced with median.\")\n",
    "\n",
    "    def replace_outliers_knn(self, n_neighbors=5):\n",
    "        \"\"\"Replaces outliers using K-Nearest Neighbors (KNN) imputation.\"\"\"\n",
    "        imputer = KNNImputer(n_neighbors=n_neighbors)\n",
    "        self.df[self.numeric_columns] = imputer.fit_transform(self.df[self.numeric_columns])\n",
    "        print(\" Outliers replaced using KNN imputation.\")\n",
    "\n",
    "    def save_cleaned_data(self, filename=\"cleaned_data.csv\"):\n",
    "        \"\"\"Saves the cleaned DataFrame as a CSV file.\"\"\"\n",
    "        self.df.to_csv(filename, index=False)\n",
    "        print(f\" Cleaned data saved to {filename}.\")\n",
    "\n",
    "    def clean_data(self, method=\"median\"):\n",
    "        self.remove_na_inf()  \n",
    "\n",
    "        if method == \"drop\":\n",
    "            self.drop_outliers()\n",
    "        elif method == \"winsorization\":\n",
    "            self.replace_outliers_iqr()\n",
    "        elif method == \"median\":\n",
    "            self.replace_outliers_median()\n",
    "        elif method == \"knn\":\n",
    "            self.replace_outliers_knn()\n",
    "        else:\n",
    "            print(\"Invalid method. Choose from 'drop', 'winsorization', 'median', 'knn'.\")\n",
    "\n",
    "        self.save_cleaned_data()\n"
   ]
  },
  {
   "cell_type": "code",
   "execution_count": 147,
   "id": "a659565d",
   "metadata": {},
   "outputs": [
    {
     "name": "stdout",
     "output_type": "stream",
     "text": [
      " NaN and infinite values removed.\n",
      " Outliers replaced using IQR bounds.\n",
      " Cleaned data saved to cleaned_data.csv.\n"
     ]
    },
    {
     "name": "stderr",
     "output_type": "stream",
     "text": [
      "C:\\Users\\Client\\AppData\\Local\\Temp\\ipykernel_16092\\1009787852.py:8: SettingWithCopyWarning: \n",
      "A value is trying to be set on a copy of a slice from a DataFrame.\n",
      "Try using .loc[row_indexer,col_indexer] = value instead\n",
      "\n",
      "See the caveats in the documentation: https://pandas.pydata.org/pandas-docs/stable/user_guide/indexing.html#returning-a-view-versus-a-copy\n",
      "  self.df[self.numeric_columns] = self.df[self.numeric_columns].replace([np.inf, -np.inf], np.nan).dropna()\n",
      "C:\\Users\\Client\\AppData\\Local\\Temp\\ipykernel_16092\\1009787852.py:43: SettingWithCopyWarning: \n",
      "A value is trying to be set on a copy of a slice from a DataFrame.\n",
      "Try using .loc[row_indexer,col_indexer] = value instead\n",
      "\n",
      "See the caveats in the documentation: https://pandas.pydata.org/pandas-docs/stable/user_guide/indexing.html#returning-a-view-versus-a-copy\n",
      "  self.df[col] = np.where(self.df[col] < lower_bound, lower_bound, self.df[col])\n",
      "C:\\Users\\Client\\AppData\\Local\\Temp\\ipykernel_16092\\1009787852.py:44: SettingWithCopyWarning: \n",
      "A value is trying to be set on a copy of a slice from a DataFrame.\n",
      "Try using .loc[row_indexer,col_indexer] = value instead\n",
      "\n",
      "See the caveats in the documentation: https://pandas.pydata.org/pandas-docs/stable/user_guide/indexing.html#returning-a-view-versus-a-copy\n",
      "  self.df[col] = np.where(self.df[col] > upper_bound, upper_bound, self.df[col])\n"
     ]
    }
   ],
   "source": [
    "cleaner = DataCleaner(df[[\"Tenure\"]])\n",
    "cleaner.clean_data(method=\"winsorization\")"
   ]
  },
  {
   "cell_type": "markdown",
   "id": "131bd7ec",
   "metadata": {},
   "source": [
    "#### Data type conversions"
   ]
  },
  {
   "cell_type": "markdown",
   "id": "67cacb77",
   "metadata": {},
   "source": [
    "##### Converts column data types based on their values:\n",
    "        - Converts strings containing numbers to int/float.\n",
    "        - Converts float columns with only integer values to int.\n",
    "        - Converts boolean-like columns (0/1) to bool.\n",
    "        - Converts date-like columns to datetime.\n",
    "        - Converts categorical columns (few unique values) to category."
   ]
  },
  {
   "cell_type": "code",
   "execution_count": 148,
   "id": "75ea609b",
   "metadata": {},
   "outputs": [
    {
     "name": "stdout",
     "output_type": "stream",
     "text": [
      " Data types converted successfully.\n"
     ]
    }
   ],
   "source": [
    "class DataTypeConverter:\n",
    "    def __init__(self, df):\n",
    "        self.df = df \n",
    "\n",
    "    def convert_data_types(self):\n",
    "        for col in self.df.columns:\n",
    "            if self.df[col].dtype == 'object':\n",
    "                try:\n",
    "                    self.df[col] = pd.to_numeric(self.df[col])\n",
    "                except ValueError:\n",
    "                    pass  \n",
    "\n",
    "            if self.df[col].dtype == 'float64':\n",
    "                if (self.df[col].dropna() % 1 == 0).all():\n",
    "                    self.df[col] = self.df[col].astype(int)\n",
    "\n",
    "            if set(self.df[col].dropna().unique()) == {0, 1}:\n",
    "                self.df[col] = self.df[col].astype(bool)\n",
    "\n",
    "            if self.df[col].dtype == 'object':\n",
    "                try:\n",
    "                    self.df[col] = pd.to_datetime(self.df[col])\n",
    "                except ValueError:\n",
    "                    pass  \n",
    "                \n",
    "            if self.df[col].dtype == 'object' and self.df[col].nunique() / len(self.df) < 0.05:\n",
    "                self.df[col] = self.df[col].astype('category')\n",
    "\n",
    "        print(\" Data types converted successfully.\")\n",
    "\n",
    "    def get_dataframe(self):\n",
    "        \"\"\"Returns the converted DataFrame.\"\"\"\n",
    "        return self.df\n",
    "converter = DataTypeConverter(df)\n",
    "converter.convert_data_types()\n",
    "df = converter.get_dataframe()\n"
   ]
  },
  {
   "cell_type": "markdown",
   "id": "a357a1d8",
   "metadata": {},
   "source": [
    "## Section B: Feature Engineering "
   ]
  },
  {
   "cell_type": "markdown",
   "id": "514a8218",
   "metadata": {},
   "source": [
    "### 1.\tCreate New Features"
   ]
  },
  {
   "cell_type": "markdown",
   "id": "69eb0517",
   "metadata": {},
   "source": [
    "1. Age\n"
   ]
  },
  {
   "cell_type": "code",
   "execution_count": 149,
   "id": "c392e220",
   "metadata": {},
   "outputs": [],
   "source": [
    "df['Age'] = df['Survey_date'].dt.year - df['Birthyear']"
   ]
  },
  {
   "cell_type": "markdown",
   "id": "51b6e26d",
   "metadata": {},
   "source": [
    "2. Education Level "
   ]
  },
  {
   "cell_type": "code",
   "execution_count": 150,
   "id": "d316672f",
   "metadata": {},
   "outputs": [],
   "source": [
    "df[\"Education_level\"] = (\n",
    "    df[\"Matric\"].astype(int) * 1 +\n",
    "    df[\"Diploma\"].astype(int) * 2 +\n",
    "    df[\"Degree\"].astype(int) * 3\n",
    ")"
   ]
  },
  {
   "cell_type": "markdown",
   "id": "2e0af6e7",
   "metadata": {},
   "source": [
    "3_Create the Province_income_tier column based on average income levels"
   ]
  },
  {
   "cell_type": "code",
   "execution_count": 151,
   "id": "baf665ae",
   "metadata": {},
   "outputs": [],
   "source": [
    "high_income = [\"Gauteng\", \"Western Cape\"]\n",
    "low_income = [\"Limpopo\", \"Eastern Cape\", \"Free State\", \"Northern Cape\"]\n",
    "\n",
    "def income_tier(prov):\n",
    "    if prov in high_income:\n",
    "        return \"High\"\n",
    "    elif prov in low_income:\n",
    "        return \"Low\"\n",
    "    else:\n",
    "        return \"Medium\"\n",
    "\n",
    "df[\"Province_income_tier\"] = df[\"Province\"].apply(income_tier)\n"
   ]
  },
  {
   "cell_type": "markdown",
   "id": "84a55e90",
   "metadata": {},
   "source": [
    "4. Employment Stability Index"
   ]
  },
  {
   "cell_type": "code",
   "execution_count": 152,
   "id": "2fff2f2d",
   "metadata": {},
   "outputs": [],
   "source": [
    "Stability_Index = df[\"Tenure\"] / (df[\"Age\"] / 12)"
   ]
  },
  {
   "cell_type": "markdown",
   "id": "a8a157f8",
   "metadata": {},
   "source": [
    "6.Age groupe"
   ]
  },
  {
   "cell_type": "code",
   "execution_count": 153,
   "id": "8623ae7f",
   "metadata": {},
   "outputs": [],
   "source": [
    "bins = [18, 30, 40, 50]  \n",
    "labels = ['18-30', '30-40', '40-50']\n",
    "df['Age_Group'] = pd.cut(df['Age'], bins=bins, labels=labels, right=False)"
   ]
  },
  {
   "cell_type": "markdown",
   "id": "3828abb2",
   "metadata": {},
   "source": [
    "7.Schoolquintile_Group"
   ]
  },
  {
   "cell_type": "code",
   "execution_count": 154,
   "id": "184b7c1a",
   "metadata": {},
   "outputs": [],
   "source": [
    "bins = [0.0, 2.0, 4.0, 5.0]  \n",
    "labels = ['Low', 'Medium', 'High']\n",
    "\n",
    "df['Schoolquintile_Group'] = pd.cut(df['Schoolquintile'],bins=bins,labels=labels,right=False  )"
   ]
  },
  {
   "cell_type": "markdown",
   "id": "6629c86c",
   "metadata": {},
   "source": [
    "8. Tenure_Group"
   ]
  },
  {
   "cell_type": "code",
   "execution_count": 155,
   "id": "72e626be",
   "metadata": {},
   "outputs": [
    {
     "name": "stdout",
     "output_type": "stream",
     "text": [
      "Tenure_Group\n",
      "Medium-Term    3515\n",
      "Long-Term       312\n",
      "Unemployed      133\n",
      "Short-Term       60\n",
      "Name: count, dtype: int64\n"
     ]
    }
   ],
   "source": [
    "bins = [-1, 0, 12, 60, 120]  \n",
    "labels = ['Unemployed', 'Short-Term', 'Medium-Term', 'Long-Term']\n",
    "df['Tenure_Group'] = pd.cut(df['Tenure'],bins=bins,labels=labels,right=True )\n",
    "\n",
    "print(df['Tenure_Group'].value_counts())"
   ]
  },
  {
   "cell_type": "markdown",
   "id": "93dd7bc3",
   "metadata": {},
   "source": [
    "9. Status_Group"
   ]
  },
  {
   "cell_type": "code",
   "execution_count": 156,
   "id": "a392349b",
   "metadata": {},
   "outputs": [
    {
     "name": "stdout",
     "output_type": "stream",
     "text": [
      "Status_Group\n",
      "Inactive    2053\n",
      "Student      997\n",
      "Active       970\n",
      "Name: count, dtype: int64\n"
     ]
    }
   ],
   "source": [
    "status_map = {\n",
    "    'unemployed': 'Inactive',\n",
    "    'studying': 'Student',\n",
    "    'wage employed': 'Active',\n",
    "    'self employed': 'Active',\n",
    "    'wage and self employed': 'Active',\n",
    "    'employment programme': 'Student',\n",
    "    'other': 'Inactive'\n",
    "}\n",
    "df['Status_Group'] = df['Status'].map(status_map)\n",
    "print(df['Status_Group'].value_counts())"
   ]
  },
  {
   "cell_type": "markdown",
   "id": "ae2b69b3",
   "metadata": {},
   "source": [
    "### 2. Eliminate variables  (overfitting or multicollinearity)"
   ]
  },
  {
   "cell_type": "markdown",
   "id": "38647e71",
   "metadata": {},
   "source": [
    "####  to eliminate in order to reduce overfitting, using both correlation and VIF (Variance Inflation Factor) analysis\n",
    "\n",
    " VIF > 5 → high multicollinearity. Consider removing .\n",
    "\n",
    " VIF between 1 and 5 → acceptable.\n",
    "\n",
    " VIF ≈ 1 → ideal, no multicollinearity."
   ]
  },
  {
   "cell_type": "code",
   "execution_count": 157,
   "id": "6bb7f849",
   "metadata": {},
   "outputs": [
    {
     "name": "stdout",
     "output_type": "stream",
     "text": [
      "\n",
      "--- VIF Results ---\n",
      "\n",
      "           feature         VIF\n",
      "3        Birthyear  484.944329\n",
      "5              Age  477.958018\n",
      "0            Round    9.151592\n",
      "4       Birthmonth    1.120656\n",
      "1           Tenure    1.056912\n",
      "2   Schoolquintile    1.004693\n",
      "6  Education_level    1.003999\n"
     ]
    }
   ],
   "source": [
    "from statsmodels.stats.outliers_influence import variance_inflation_factor\n",
    "from sklearn.preprocessing import StandardScaler\n",
    "\n",
    "numeric_df = df.select_dtypes(include=[np.number])\n",
    "def compute_vif(data):\n",
    "    \"\"\"Calculate VIF for each numeric feature\"\"\"\n",
    "    scaler = StandardScaler()\n",
    "    X_scaled = scaler.fit_transform(data.dropna())\n",
    "    vif_data = pd.DataFrame()\n",
    "    vif_data[\"feature\"] = data.columns\n",
    "    vif_data[\"VIF\"] = [variance_inflation_factor(X_scaled, i) for i in range(X_scaled.shape[1])]\n",
    "    return vif_data.sort_values(by=\"VIF\", ascending=False)\n",
    "\n",
    "features_for_vif = numeric_df.drop(columns=['mental_health_score'], errors='ignore')\n",
    "vif_result = compute_vif(features_for_vif)\n",
    "\n",
    "print(\"\\n--- VIF Results ---\\n\")\n",
    "print(vif_result)"
   ]
  },
  {
   "cell_type": "code",
   "execution_count": 158,
   "id": "10bc0ea3",
   "metadata": {},
   "outputs": [
    {
     "data": {
      "text/plain": [
       "Index(['Person_id', 'Survey_date', 'Round', 'Status', 'Tenure', 'Geography',\n",
       "       'Province', 'Matric', 'Degree', 'Diploma', 'Schoolquintile',\n",
       "       'Additional_lang', 'Female', 'Sa_citizen', 'Birthyear', 'Birthmonth',\n",
       "       'Target', 'Age', 'Education_level', 'Province_income_tier', 'Age_Group',\n",
       "       'Schoolquintile_Group', 'Tenure_Group', 'Status_Group'],\n",
       "      dtype='object')"
      ]
     },
     "execution_count": 158,
     "metadata": {},
     "output_type": "execute_result"
    }
   ],
   "source": [
    "df.columns"
   ]
  },
  {
   "cell_type": "markdown",
   "id": "b4a95899",
   "metadata": {},
   "source": [
    "Remove the variables using in new feature(multicollinearity) and causes the overfitting"
   ]
  },
  {
   "cell_type": "code",
   "execution_count": 159,
   "id": "db359bc5",
   "metadata": {},
   "outputs": [],
   "source": [
    "df = df.set_index('Person_id')\n",
    "cols_to_drop = [\"Birthyear\",'Birthmonth',\"Survey_date\"]\n",
    "df= df.drop(columns=cols_to_drop)"
   ]
  },
  {
   "cell_type": "markdown",
   "id": "24112816",
   "metadata": {},
   "source": [
    "### 3.\tFeature Encoding"
   ]
  },
  {
   "cell_type": "code",
   "execution_count": 160,
   "id": "1af4723a",
   "metadata": {},
   "outputs": [
    {
     "name": "stdout",
     "output_type": "stream",
     "text": [
      "9 \n",
      " ['Status', 'Geography', 'Province', 'Additional_lang', 'Province_income_tier', 'Age_Group', 'Schoolquintile_Group', 'Tenure_Group', 'Status_Group']\n"
     ]
    }
   ],
   "source": [
    "def get_object_columns(df, target=None):\n",
    "    object_cols = df.select_dtypes(include=['object', 'category']).columns.tolist()\n",
    "\n",
    "    if target and target in object_cols:\n",
    "        object_cols.remove(target)\n",
    "\n",
    "    return object_cols\n",
    "\n",
    "object_columns = get_object_columns(df, target='Target')\n",
    "print(len(object_columns), \"\\n\", object_columns)"
   ]
  },
  {
   "cell_type": "code",
   "execution_count": 161,
   "id": "73daf858",
   "metadata": {},
   "outputs": [
    {
     "name": "stdout",
     "output_type": "stream",
     "text": [
      "\n",
      "[INFO] Label Encoding for 'Status': {'employment programme': 0, 'other': 1, 'self employed': 2, 'studying': 3, 'unemployed': 4, 'wage and self employed': 5, 'wage employed': 6}\n",
      "\n",
      "[INFO] Label Encoding for 'Geography': {'Rural': 0, 'Suburb': 1, 'Urban': 2}\n",
      "\n",
      "[INFO] Label Encoding for 'Province': {'Eastern Cape': 0, 'Free State': 1, 'Gauteng': 2, 'KwaZulu-Natal': 3, 'Limpopo': 4, 'Mpumalanga': 5, 'North West': 6, 'Northern Cape': 7, 'Western Cape': 8}\n",
      "\n",
      "[INFO] Label Encoding for 'Additional_lang': {'0%': 0, '30 - 39 %': 1, '40 - 49 %': 2, '50 - 59 %': 3, '60 - 69 %': 4, '70 - 79 %': 5, '80 - 100 %': 6}\n",
      "\n",
      "[INFO] Label Encoding for 'Province_income_tier': {'High': 0, 'Low': 1, 'Medium': 2}\n",
      "\n",
      "[INFO] Label Encoding for 'Age_Group': {'18-30': 0, '30-40': 1, '40-50': 2, nan: 3}\n",
      "\n",
      "[INFO] Label Encoding for 'Schoolquintile_Group': {'High': 0, 'Low': 1, 'Medium': 2, nan: 3}\n",
      "\n",
      "[INFO] Label Encoding for 'Tenure_Group': {'Long-Term': 0, 'Medium-Term': 1, 'Short-Term': 2, 'Unemployed': 3}\n",
      "\n",
      "[INFO] Label Encoding for 'Status_Group': {'Active': 0, 'Inactive': 1, 'Student': 2}\n"
     ]
    }
   ],
   "source": [
    "def label_encode_columns(df, columns=object_columns, verbose=True):\n",
    "    for col in columns:\n",
    "        if col in df.columns:\n",
    "            le = LabelEncoder()\n",
    "            df[col] = le.fit_transform(df[col])\n",
    "            \n",
    "            if verbose:\n",
    "                mapping = dict(zip(le.classes_, le.transform(le.classes_)))\n",
    "                print(f\"\\n[INFO] Label Encoding for '{col}': {mapping}\")\n",
    "        else:\n",
    "            print(f\"[WARNING] Column '{col}' not found in DataFrame.\")\n",
    "    \n",
    "    return df\n",
    "df=label_encode_columns(df, columns=object_columns, verbose=True)"
   ]
  },
  {
   "cell_type": "markdown",
   "id": "1d3b4fa4",
   "metadata": {},
   "source": [
    "## Section C: Machine Learning Modeling with OOP"
   ]
  },
  {
   "cell_type": "markdown",
   "id": "20bf784e",
   "metadata": {},
   "source": [
    "### modeling package and spliting "
   ]
  },
  {
   "cell_type": "code",
   "execution_count": 162,
   "id": "c0b4fa75",
   "metadata": {},
   "outputs": [],
   "source": [
    "from sklearn.preprocessing import LabelEncoder\n",
    "from sklearn.pipeline import Pipeline\n",
    "from sklearn.preprocessing import StandardScaler,MinMaxScaler\n",
    "from sklearn.impute import SimpleImputer\n",
    "from sklearn.preprocessing import OneHotEncoder,OrdinalEncoder\n",
    "from sklearn.decomposition import PCA\n",
    "from sklearn.tree import DecisionTreeRegressor\n",
    "from xgboost import XGBRegressor\n",
    "from sklearn.impute import KNNImputer\n",
    "from sklearn.experimental import enable_iterative_imputer\n",
    "from sklearn.impute import IterativeImputer\n",
    "from sklearn.linear_model import LinearRegression\n",
    "from sklearn.model_selection import train_test_split\n",
    "from sklearn.preprocessing import StandardScaler\n",
    "from sklearn.model_selection import train_test_split\n",
    "import time\n",
    "from sklearn.neighbors import KNeighborsClassifier\n",
    "from sklearn.linear_model import LogisticRegression\n",
    "from sklearn.metrics import accuracy_score, precision_score, recall_score, f1_score, roc_auc_score,confusion_matrix\n",
    "\n",
    "from sklearn.metrics import mean_squared_error, mean_absolute_error, r2_score\n",
    "from sklearn.ensemble import RandomForestClassifier\n",
    "from sklearn.neighbors import KNeighborsClassifier\n",
    "from sklearn.svm import LinearSVC\n",
    "from xgboost import XGBClassifier\n",
    "from imblearn.over_sampling import SMOTE\n",
    "from sklearn.ensemble import (GradientBoostingClassifier,AdaBoostClassifier)\n",
    "from lightgbm import LGBMClassifier "
   ]
  },
  {
   "cell_type": "code",
   "execution_count": 163,
   "id": "f3ecea19",
   "metadata": {},
   "outputs": [],
   "source": [
    "x= df.drop(columns=[\"Target\"])\n",
    "y= df['Target']"
   ]
  },
  {
   "cell_type": "code",
   "execution_count": 164,
   "id": "ea13f465",
   "metadata": {},
   "outputs": [],
   "source": [
    "x_train,x_test,y_train,y_test= train_test_split(x,y,test_size=0.2,stratify=y)"
   ]
  },
  {
   "cell_type": "code",
   "execution_count": 165,
   "id": "1c026b05",
   "metadata": {},
   "outputs": [],
   "source": [
    "scaler = StandardScaler()\n",
    "x_train = scaler.fit_transform(x_train)\n",
    "x_test  = scaler.fit_transform(x_test)"
   ]
  },
  {
   "cell_type": "markdown",
   "id": "9d36e128",
   "metadata": {},
   "source": [
    "### 1.\tClass Design"
   ]
  },
  {
   "cell_type": "markdown",
   "id": "aeabf243",
   "metadata": {},
   "source": [
    "#### 1.without tuning "
   ]
  },
  {
   "cell_type": "code",
   "execution_count": null,
   "id": "f8c5a001",
   "metadata": {},
   "outputs": [
    {
     "name": "stdout",
     "output_type": "stream",
     "text": [
      "Training Logistic Regression...\n",
      "Training Random Forest...\n",
      "Training K-Nearest Neighbors...\n",
      "Training Linear SVM...\n",
      "Training XGBoost...\n",
      "Training Gradient Boosting...\n",
      "Training AdaBoost...\n",
      "Training LightGBM...\n",
      "[LightGBM] [Info] Number of positive: 874, number of negative: 2342\n",
      "[LightGBM] [Info] Auto-choosing row-wise multi-threading, the overhead of testing was 0.001352 seconds.\n",
      "You can set `force_row_wise=true` to remove the overhead.\n",
      "And if memory is not enough, you can set `force_col_wise=true`.\n",
      "[LightGBM] [Info] Total Bins 160\n",
      "[LightGBM] [Info] Number of data points in the train set: 3216, number of used features: 18\n",
      "[LightGBM] [Info] [binary:BoostFromScore]: pavg=0.271766 -> initscore=-0.985680\n",
      "[LightGBM] [Info] Start training from score -0.985680\n",
      "                 Model  Train Accuracy  Test Accuracy  F1 Score   ROC AUC  \\\n",
      "0  Logistic Regression        0.800684       0.805970  0.530120  0.747976   \n",
      "1        Random Forest        0.986629       0.805970  0.564246  0.802189   \n",
      "2  K-Nearest Neighbors        0.830846       0.758706  0.426036  0.713820   \n",
      "3           Linear SVM        0.801617       0.808458  0.521739  0.743996   \n",
      "4              XGBoost        0.931281       0.681592  0.490040  0.710100   \n",
      "5    Gradient Boosting        0.838930       0.825871  0.588235  0.844737   \n",
      "6             AdaBoost        0.806281       0.808458  0.547059  0.821961   \n",
      "7             LightGBM        0.900187       0.812189  0.574648  0.838512   \n",
      "\n",
      "   Training Time (s)  Prediction Time (s)  \n",
      "0           0.098817             0.001660  \n",
      "1           0.814649             0.150181  \n",
      "2           0.006175             1.245139  \n",
      "3           1.231447             0.002192  \n",
      "4           0.296269             0.016737  \n",
      "5           0.702657             0.018387  \n",
      "6           0.253368             0.059783  \n",
      "7           0.172926             0.031248  \n"
     ]
    }
   ],
   "source": [
    "class ClassifierComparison:\n",
    "    def __init__(self, x_train, x_test, y_train, y_test):\n",
    "        self.x_train = x_train\n",
    "        self.x_test = x_test\n",
    "        self.y_train = y_train\n",
    "        self.y_test = y_test\n",
    "        self.results = []\n",
    "\n",
    "    def evaluate_model(self, name, model):\n",
    "        print(f\"Training {name}...\")\n",
    "\n",
    "        training_start = time.perf_counter()\n",
    "        model.fit(self.x_train, self.y_train)\n",
    "        training_end = time.perf_counter()\n",
    "\n",
    "        prediction_start = time.perf_counter()\n",
    "        y_pred_train = model.predict(self.x_train)\n",
    "        y_pred_test = model.predict(self.x_test)\n",
    "        prediction_end = time.perf_counter()\n",
    "\n",
    "        try:\n",
    "            y_proba_test = model.predict_proba(self.x_test)[:, 1]\n",
    "        except:\n",
    "            try:\n",
    "                y_proba_test = model.decision_function(self.x_test)\n",
    "                y_proba_test = (y_proba_test - y_proba_test.min()) / (y_proba_test.max() - y_proba_test.min())\n",
    "            except:\n",
    "                y_proba_test = np.zeros_like(y_pred_test) \n",
    "\n",
    "        self.results.append({\n",
    "            'Model': name,\n",
    "            'Train Accuracy': accuracy_score(self.y_train, y_pred_train),\n",
    "            'Test Accuracy': accuracy_score(self.y_test, y_pred_test),\n",
    "            'F1 Score': f1_score(self.y_test, y_pred_test, average='binary'),\n",
    "            'ROC AUC': roc_auc_score(self.y_test, y_proba_test),\n",
    "            'Training Time (s)': training_end - training_start,\n",
    "            'Prediction Time (s)': prediction_end - prediction_start\n",
    "        })\n",
    "\n",
    "    def run_all(self):\n",
    "        # Logistic Regression\n",
    "        self.evaluate_model(\"Logistic Regression\", LogisticRegression(max_iter=1000))\n",
    "\n",
    "        # Random Forest\n",
    "        rf_pipeline = Pipeline([\n",
    "            ('scaler', StandardScaler()),\n",
    "            ('rf', RandomForestClassifier(random_state=42))\n",
    "        ])\n",
    "        self.evaluate_model(\"Random Forest\", rf_pipeline)\n",
    "\n",
    "        # KNN\n",
    "        knn_pipeline = Pipeline([\n",
    "            ('scaler', StandardScaler()),\n",
    "            ('knn', KNeighborsClassifier(n_neighbors=5))\n",
    "        ])\n",
    "        self.evaluate_model(\"K-Nearest Neighbors\", knn_pipeline)\n",
    "\n",
    "        # SVM\n",
    "        svm_pipeline = Pipeline([\n",
    "            ('scaler', StandardScaler()),\n",
    "            ('svm', LinearSVC(max_iter=10000))\n",
    "        ])\n",
    "        self.evaluate_model(\"Linear SVM\", svm_pipeline)\n",
    "\n",
    "        # XGBoost\n",
    "        xgb_model = XGBClassifier(use_label_encoder=False, eval_metric='logloss')\n",
    "        self.evaluate_model(\"XGBoost\", xgb_model)\n",
    "\n",
    "        # Gradient Boosting\n",
    "        gb_model = GradientBoostingClassifier()\n",
    "        self.evaluate_model(\"Gradient Boosting\", gb_model)\n",
    "\n",
    "        # AdaBoost\n",
    "        ada_model = AdaBoostClassifier()\n",
    "        self.evaluate_model(\"AdaBoost\", ada_model)\n",
    "        \n",
    "        # LightGBM\n",
    "        self.evaluate_model(\"LightGBM\", LGBMClassifier())\n",
    "\n",
    "\n",
    "    def get_results(self):\n",
    "        return pd.DataFrame(self.results)\n",
    "comp = ClassifierComparison(x_train, x_test, y_train, y_test)\n",
    "comp.run_all()\n",
    "results_df = comp.get_results()\n",
    "print(results_df)"
   ]
  },
  {
   "cell_type": "code",
   "execution_count": 167,
   "id": "326d6de3",
   "metadata": {},
   "outputs": [
    {
     "data": {
      "image/png": "[encoded data removed]",
      "text/plain": [
       "<Figure size 1200x700 with 1 Axes>"
      ]
     },
     "metadata": {},
     "output_type": "display_data"
    }
   ],
   "source": [
    "def plot_metrics_comparison(results_df):\n",
    "    metrics = ['Train Accuracy', 'F1 Score', 'ROC AUC']\n",
    "    models = results_df['Model'].values\n",
    "    bar_width = 0.25\n",
    "    indices = np.arange(len(models))\n",
    "    \n",
    "    plt.figure(figsize=(12, 7))\n",
    "    \n",
    "    plt.bar(indices, results_df['Train Accuracy'], width=bar_width, label='Accuracy')\n",
    "    plt.bar(indices + bar_width, results_df['F1 Score'], width=bar_width, label='F1 Score')\n",
    "    plt.bar(indices + 2 * bar_width, results_df['ROC AUC'], width=bar_width, label='ROC AUC')\n",
    "    plt.xlabel('Models')\n",
    "    plt.ylabel('Scores')\n",
    "    plt.title('Comparison of Accuracy, F1 Score and ROC AUC for Models')\n",
    "    plt.xticks(indices + bar_width, models, rotation=45, ha='right')\n",
    "    plt.ylim(0, 1)  \n",
    "    \n",
    "    plt.legend()\n",
    "    plt.tight_layout()\n",
    "    plt.show()\n",
    "\n",
    "plot_metrics_comparison(results_df)\n"
   ]
  },
  {
   "cell_type": "markdown",
   "id": "133f98b3",
   "metadata": {},
   "source": [
    "#### hyperparamètres tuning "
   ]
  },
  {
   "cell_type": "code",
   "execution_count": 168,
   "id": "9ab1d031",
   "metadata": {},
   "outputs": [],
   "source": [
    "from sklearn.model_selection import GridSearchCV\n",
    "class ClassifierComparison:\n",
    "    def __init__(self, x_train, x_test, y_train, y_test):\n",
    "        self.x_train = x_train\n",
    "        self.x_test = x_test\n",
    "        self.y_train = y_train\n",
    "        self.y_test = y_test\n",
    "        self.results = []\n",
    "\n",
    "    def evaluate_model(self, name, model, param_grid=None, use_grid_search=False):\n",
    "        print(f\"Training {name}...\")\n",
    "\n",
    "        if use_grid_search and param_grid is not None:\n",
    "            grid = GridSearchCV(model, param_grid, cv=3, scoring='f1', n_jobs=1)  \n",
    "            model = grid.fit(self.x_train, self.y_train).best_estimator_\n",
    "        else:\n",
    "            model.fit(self.x_train, self.y_train)\n",
    "\n",
    "        training_start = time.perf_counter()\n",
    "        model.fit(self.x_train, self.y_train)\n",
    "        training_end = time.perf_counter()\n",
    "\n",
    "        prediction_start = time.perf_counter()\n",
    "        y_pred_train = model.predict(self.x_train)\n",
    "        y_pred_test = model.predict(self.x_test)\n",
    "        prediction_end = time.perf_counter()\n",
    "\n",
    "        try:\n",
    "            y_proba_test = model.predict_proba(self.x_test)[:, 1]\n",
    "        except:\n",
    "            try:\n",
    "                y_proba_test = model.decision_function(self.x_test)\n",
    "                y_proba_test = (y_proba_test - y_proba_test.min()) / (y_proba_test.max() - y_proba_test.min())\n",
    "            except:\n",
    "                y_proba_test = np.zeros_like(y_pred_test)\n",
    "\n",
    "        self.results.append({\n",
    "            'Model': name,\n",
    "            'Train Accuracy': accuracy_score(self.y_train, y_pred_train),\n",
    "            'Test Accuracy': accuracy_score(self.y_test, y_pred_test),\n",
    "            'F1 Score': f1_score(self.y_test, y_pred_test),\n",
    "            'ROC AUC': roc_auc_score(self.y_test, y_proba_test),\n",
    "            'Training Time (s)': training_end - training_start,\n",
    "            'Prediction Time (s)': prediction_end - prediction_start\n",
    "        })\n",
    "\n",
    "    def run_all(self):\n",
    "        self.evaluate_model(\n",
    "            \"Logistic Regression\",\n",
    "            LogisticRegression(max_iter=1000),\n",
    "            {'C': [0.01, 0.1, 1]},\n",
    "            use_grid_search=True\n",
    "        )\n",
    "        self.evaluate_model(\n",
    "            \"Random Forest\",\n",
    "            Pipeline([\n",
    "                ('scaler', StandardScaler()),\n",
    "                ('rf', RandomForestClassifier(random_state=42))\n",
    "            ]),\n",
    "            {'rf__n_estimators': [100, 200], 'rf__max_depth': [5, 10]},\n",
    "            use_grid_search=True\n",
    "        )\n",
    "        self.evaluate_model(\n",
    "            \"K-Nearest Neighbors\",\n",
    "            Pipeline([\n",
    "                ('scaler', StandardScaler()),\n",
    "                ('knn', KNeighborsClassifier())\n",
    "            ]),\n",
    "            {'knn__n_neighbors': [3, 5, 7]},\n",
    "            use_grid_search=True\n",
    "        )\n",
    "        self.evaluate_model(\n",
    "            \"Linear SVM\",\n",
    "            Pipeline([\n",
    "                ('scaler', StandardScaler()),\n",
    "                ('svm', LinearSVC(max_iter=10000))\n",
    "            ]),\n",
    "            {'svm__C': [0.01, 0.1, 1, 10]},\n",
    "            use_grid_search=True\n",
    "        )\n",
    "        self.evaluate_model(\n",
    "            \"XGBoost\",\n",
    "            XGBClassifier(use_label_encoder=False, eval_metric='logloss'),\n",
    "            {'n_estimators': [100, 200], 'max_depth': [3, 5]},\n",
    "            use_grid_search=True\n",
    "        )\n",
    "        self.evaluate_model(\n",
    "            \"Gradient Boosting\",\n",
    "            GradientBoostingClassifier(),\n",
    "            {'n_estimators': [100, 200], 'max_depth': [3, 5]},\n",
    "            use_grid_search=True\n",
    "        )\n",
    "        self.evaluate_model(\n",
    "            \"AdaBoost\",\n",
    "            AdaBoostClassifier(),\n",
    "            {'n_estimators': [50, 100], 'learning_rate': [0.5, 1.0]},\n",
    "            use_grid_search=True\n",
    "        )\n",
    "        self.evaluate_model(\n",
    "            \"LightGBM\",\n",
    "            LGBMClassifier(),\n",
    "            {'n_estimators': [100, 200], 'num_leaves': [15, 31]},\n",
    "            use_grid_search=True\n",
    "        )\n",
    "\n",
    "    def get_results(self):\n",
    "        return pd.DataFrame(self.results)"
   ]
  },
  {
   "cell_type": "code",
   "execution_count": 169,
   "id": "81a4667b",
   "metadata": {},
   "outputs": [
    {
     "name": "stdout",
     "output_type": "stream",
     "text": [
      "Training Logistic Regression...\n",
      "Training Random Forest...\n",
      "Training K-Nearest Neighbors...\n",
      "Training Linear SVM...\n",
      "Training XGBoost...\n",
      "Training Gradient Boosting...\n",
      "Training AdaBoost...\n",
      "Training LightGBM...\n",
      "[LightGBM] [Info] Number of positive: 583, number of negative: 1561\n",
      "[LightGBM] [Info] Auto-choosing row-wise multi-threading, the overhead of testing was 0.001364 seconds.\n",
      "You can set `force_row_wise=true` to remove the overhead.\n",
      "And if memory is not enough, you can set `force_col_wise=true`.\n",
      "[LightGBM] [Info] Total Bins 144\n",
      "[LightGBM] [Info] Number of data points in the train set: 2144, number of used features: 18\n",
      "[LightGBM] [Info] [binary:BoostFromScore]: pavg=0.271922 -> initscore=-0.984895\n",
      "[LightGBM] [Info] Start training from score -0.984895\n",
      "[LightGBM] [Info] Number of positive: 583, number of negative: 1561\n",
      "[LightGBM] [Info] Auto-choosing row-wise multi-threading, the overhead of testing was 0.000985 seconds.\n",
      "You can set `force_row_wise=true` to remove the overhead.\n",
      "And if memory is not enough, you can set `force_col_wise=true`.\n",
      "[LightGBM] [Info] Total Bins 148\n",
      "[LightGBM] [Info] Number of data points in the train set: 2144, number of used features: 18\n",
      "[LightGBM] [Info] [binary:BoostFromScore]: pavg=0.271922 -> initscore=-0.984895\n",
      "[LightGBM] [Info] Start training from score -0.984895\n",
      "[LightGBM] [Info] Number of positive: 582, number of negative: 1562\n",
      "[LightGBM] [Info] Auto-choosing row-wise multi-threading, the overhead of testing was 0.000308 seconds.\n",
      "You can set `force_row_wise=true` to remove the overhead.\n",
      "And if memory is not enough, you can set `force_col_wise=true`.\n",
      "[LightGBM] [Info] Total Bins 145\n",
      "[LightGBM] [Info] Number of data points in the train set: 2144, number of used features: 18\n",
      "[LightGBM] [Info] [binary:BoostFromScore]: pavg=0.271455 -> initscore=-0.987252\n",
      "[LightGBM] [Info] Start training from score -0.987252\n",
      "[LightGBM] [Info] Number of positive: 583, number of negative: 1561\n",
      "[LightGBM] [Info] Auto-choosing row-wise multi-threading, the overhead of testing was 0.000402 seconds.\n",
      "You can set `force_row_wise=true` to remove the overhead.\n",
      "And if memory is not enough, you can set `force_col_wise=true`.\n",
      "[LightGBM] [Info] Total Bins 144\n",
      "[LightGBM] [Info] Number of data points in the train set: 2144, number of used features: 18\n",
      "[LightGBM] [Info] [binary:BoostFromScore]: pavg=0.271922 -> initscore=-0.984895\n",
      "[LightGBM] [Info] Start training from score -0.984895\n",
      "[LightGBM] [Info] Number of positive: 583, number of negative: 1561\n",
      "[LightGBM] [Info] Auto-choosing row-wise multi-threading, the overhead of testing was 0.000317 seconds.\n",
      "You can set `force_row_wise=true` to remove the overhead.\n",
      "And if memory is not enough, you can set `force_col_wise=true`.\n",
      "[LightGBM] [Info] Total Bins 148\n",
      "[LightGBM] [Info] Number of data points in the train set: 2144, number of used features: 18\n",
      "[LightGBM] [Info] [binary:BoostFromScore]: pavg=0.271922 -> initscore=-0.984895\n",
      "[LightGBM] [Info] Start training from score -0.984895\n",
      "[LightGBM] [Info] Number of positive: 582, number of negative: 1562\n",
      "[LightGBM] [Info] Auto-choosing row-wise multi-threading, the overhead of testing was 0.000373 seconds.\n",
      "You can set `force_row_wise=true` to remove the overhead.\n",
      "And if memory is not enough, you can set `force_col_wise=true`.\n",
      "[LightGBM] [Info] Total Bins 145\n",
      "[LightGBM] [Info] Number of data points in the train set: 2144, number of used features: 18\n",
      "[LightGBM] [Info] [binary:BoostFromScore]: pavg=0.271455 -> initscore=-0.987252\n",
      "[LightGBM] [Info] Start training from score -0.987252\n",
      "[LightGBM] [Info] Number of positive: 583, number of negative: 1561\n",
      "[LightGBM] [Info] Auto-choosing row-wise multi-threading, the overhead of testing was 0.000377 seconds.\n",
      "You can set `force_row_wise=true` to remove the overhead.\n",
      "And if memory is not enough, you can set `force_col_wise=true`.\n",
      "[LightGBM] [Info] Total Bins 144\n",
      "[LightGBM] [Info] Number of data points in the train set: 2144, number of used features: 18\n",
      "[LightGBM] [Info] [binary:BoostFromScore]: pavg=0.271922 -> initscore=-0.984895\n",
      "[LightGBM] [Info] Start training from score -0.984895\n",
      "[LightGBM] [Info] Number of positive: 583, number of negative: 1561\n",
      "[LightGBM] [Info] Auto-choosing row-wise multi-threading, the overhead of testing was 0.000257 seconds.\n",
      "You can set `force_row_wise=true` to remove the overhead.\n",
      "And if memory is not enough, you can set `force_col_wise=true`.\n",
      "[LightGBM] [Info] Total Bins 148\n",
      "[LightGBM] [Info] Number of data points in the train set: 2144, number of used features: 18\n",
      "[LightGBM] [Info] [binary:BoostFromScore]: pavg=0.271922 -> initscore=-0.984895\n",
      "[LightGBM] [Info] Start training from score -0.984895\n",
      "[LightGBM] [Info] Number of positive: 582, number of negative: 1562\n",
      "[LightGBM] [Info] Auto-choosing row-wise multi-threading, the overhead of testing was 0.000508 seconds.\n",
      "You can set `force_row_wise=true` to remove the overhead.\n",
      "And if memory is not enough, you can set `force_col_wise=true`.\n",
      "[LightGBM] [Info] Total Bins 145\n",
      "[LightGBM] [Info] Number of data points in the train set: 2144, number of used features: 18\n",
      "[LightGBM] [Info] [binary:BoostFromScore]: pavg=0.271455 -> initscore=-0.987252\n",
      "[LightGBM] [Info] Start training from score -0.987252\n",
      "[LightGBM] [Info] Number of positive: 583, number of negative: 1561\n",
      "[LightGBM] [Info] Auto-choosing row-wise multi-threading, the overhead of testing was 0.000260 seconds.\n",
      "You can set `force_row_wise=true` to remove the overhead.\n",
      "And if memory is not enough, you can set `force_col_wise=true`.\n",
      "[LightGBM] [Info] Total Bins 144\n",
      "[LightGBM] [Info] Number of data points in the train set: 2144, number of used features: 18\n",
      "[LightGBM] [Info] [binary:BoostFromScore]: pavg=0.271922 -> initscore=-0.984895\n",
      "[LightGBM] [Info] Start training from score -0.984895\n",
      "[LightGBM] [Info] Number of positive: 583, number of negative: 1561\n",
      "[LightGBM] [Info] Auto-choosing row-wise multi-threading, the overhead of testing was 0.000336 seconds.\n",
      "You can set `force_row_wise=true` to remove the overhead.\n",
      "And if memory is not enough, you can set `force_col_wise=true`.\n",
      "[LightGBM] [Info] Total Bins 148\n",
      "[LightGBM] [Info] Number of data points in the train set: 2144, number of used features: 18\n",
      "[LightGBM] [Info] [binary:BoostFromScore]: pavg=0.271922 -> initscore=-0.984895\n",
      "[LightGBM] [Info] Start training from score -0.984895\n",
      "[LightGBM] [Info] Number of positive: 582, number of negative: 1562\n",
      "[LightGBM] [Info] Auto-choosing col-wise multi-threading, the overhead of testing was 0.000762 seconds.\n",
      "You can set `force_col_wise=true` to remove the overhead.\n",
      "[LightGBM] [Info] Total Bins 145\n",
      "[LightGBM] [Info] Number of data points in the train set: 2144, number of used features: 18\n",
      "[LightGBM] [Info] [binary:BoostFromScore]: pavg=0.271455 -> initscore=-0.987252\n",
      "[LightGBM] [Info] Start training from score -0.987252\n",
      "[LightGBM] [Info] Number of positive: 874, number of negative: 2342\n",
      "[LightGBM] [Info] Auto-choosing row-wise multi-threading, the overhead of testing was 0.000629 seconds.\n",
      "You can set `force_row_wise=true` to remove the overhead.\n",
      "And if memory is not enough, you can set `force_col_wise=true`.\n",
      "[LightGBM] [Info] Total Bins 160\n",
      "[LightGBM] [Info] Number of data points in the train set: 3216, number of used features: 18\n",
      "[LightGBM] [Info] [binary:BoostFromScore]: pavg=0.271766 -> initscore=-0.985680\n",
      "[LightGBM] [Info] Start training from score -0.985680\n",
      "[LightGBM] [Info] Number of positive: 874, number of negative: 2342\n",
      "[LightGBM] [Info] Auto-choosing row-wise multi-threading, the overhead of testing was 0.000666 seconds.\n",
      "You can set `force_row_wise=true` to remove the overhead.\n",
      "And if memory is not enough, you can set `force_col_wise=true`.\n",
      "[LightGBM] [Info] Total Bins 160\n",
      "[LightGBM] [Info] Number of data points in the train set: 3216, number of used features: 18\n",
      "[LightGBM] [Info] [binary:BoostFromScore]: pavg=0.271766 -> initscore=-0.985680\n",
      "[LightGBM] [Info] Start training from score -0.985680\n",
      "                 Model  Train Accuracy  Test Accuracy  F1 Score   ROC AUC  \\\n",
      "0  Logistic Regression        0.801306       0.807214  0.531722  0.748226   \n",
      "1        Random Forest        0.865983       0.808458  0.524691  0.839043   \n",
      "2  K-Nearest Neighbors        0.860697       0.743781  0.455026  0.672817   \n",
      "3           Linear SVM        0.801617       0.808458  0.521739  0.744417   \n",
      "4              XGBoost        0.939988       0.702736  0.479303  0.707540   \n",
      "5    Gradient Boosting        0.918532       0.812189  0.584022  0.829692   \n",
      "6             AdaBoost        0.806281       0.808458  0.547059  0.821961   \n",
      "7             LightGBM        0.934391       0.810945  0.595745  0.836132   \n",
      "\n",
      "   Training Time (s)  Prediction Time (s)  \n",
      "0           0.021683             0.002752  \n",
      "1           0.958486             0.239159  \n",
      "2           0.005606             1.779625  \n",
      "3           0.019908             0.001500  \n",
      "4           0.262599             0.016490  \n",
      "5           1.691623             0.033996  \n",
      "6           0.230920             0.062732  \n",
      "7           0.197676             0.060659  \n"
     ]
    }
   ],
   "source": [
    "comp = ClassifierComparison(x_train, x_test, y_train, y_test)\n",
    "comp.run_all()\n",
    "results_df = comp.get_results()\n",
    "print(results_df)\n"
   ]
  },
  {
   "cell_type": "code",
   "execution_count": 170,
   "id": "920c76ac",
   "metadata": {},
   "outputs": [
    {
     "data": {
      "image/png": "[encoded data removed]",
      "text/plain": [
       "<Figure size 1400x600 with 1 Axes>"
      ]
     },
     "metadata": {},
     "output_type": "display_data"
    }
   ],
   "source": [
    "sns.set(style=\"whitegrid\")\n",
    "metrics_to_plot = [\"Test Accuracy\", \"F1 Score\", \"ROC AUC\"]\n",
    "melted_df = results_df.melt(id_vars=\"Model\", value_vars=metrics_to_plot,\n",
    "                            var_name=\"Metric\", value_name=\"Score\")\n",
    "\n",
    "plt.figure(figsize=(14, 6))\n",
    "sns.barplot(data=melted_df, x=\"Model\", y=\"Score\", hue=\"Metric\")\n",
    "\n",
    "plt.title(\"Comparison of Model Performance Metrics\", fontsize=16)\n",
    "plt.ylabel(\"Score\")\n",
    "plt.xticks(rotation=45)\n",
    "plt.legend(title=\"Metric\")\n",
    "plt.tight_layout()\n",
    "plt.show()\n"
   ]
  },
  {
   "cell_type": "markdown",
   "id": "a34732ad",
   "metadata": {},
   "source": [
    "## Section D: Interpretation & Recommendations\n"
   ]
  },
  {
   "cell_type": "markdown",
   "id": "40e7e7e1",
   "metadata": {},
   "source": [
    "### 1.\tFeature Importance\n"
   ]
  },
  {
   "cell_type": "markdown",
   "id": "cbe5494b",
   "metadata": {},
   "source": [
    "use a Random Forest Classifier to estimate the importance of the features"
   ]
  },
  {
   "cell_type": "code",
   "execution_count": 171,
   "id": "41dbd2da",
   "metadata": {},
   "outputs": [
    {
     "data": {
      "text/html": [
       "<style>#sk-container-id-3 {color: black;background-color: white;}#sk-container-id-3 pre{padding: 0;}#sk-container-id-3 div.sk-toggleable {background-color: white;}#sk-container-id-3 label.sk-toggleable__label {cursor: pointer;display: block;width: 100%;margin-bottom: 0;padding: 0.3em;box-sizing: border-box;text-align: center;}#sk-container-id-3 label.sk-toggleable__label-arrow:before {content: \"▸\";float: left;margin-right: 0.25em;color: #696969;}#sk-container-id-3 label.sk-toggleable__label-arrow:hover:before {color: black;}#sk-container-id-3 div.sk-estimator:hover label.sk-toggleable__label-arrow:before {color: black;}#sk-container-id-3 div.sk-toggleable__content {max-height: 0;max-width: 0;overflow: hidden;text-align: left;background-color: #f0f8ff;}#sk-container-id-3 div.sk-toggleable__content pre {margin: 0.2em;color: black;border-radius: 0.25em;background-color: #f0f8ff;}#sk-container-id-3 input.sk-toggleable__control:checked~div.sk-toggleable__content {max-height: 200px;max-width: 100%;overflow: auto;}#sk-container-id-3 input.sk-toggleable__control:checked~label.sk-toggleable__label-arrow:before {content: \"▾\";}#sk-container-id-3 div.sk-estimator input.sk-toggleable__control:checked~label.sk-toggleable__label {background-color: #d4ebff;}#sk-container-id-3 div.sk-label input.sk-toggleable__control:checked~label.sk-toggleable__label {background-color: #d4ebff;}#sk-container-id-3 input.sk-hidden--visually {border: 0;clip: rect(1px 1px 1px 1px);clip: rect(1px, 1px, 1px, 1px);height: 1px;margin: -1px;overflow: hidden;padding: 0;position: absolute;width: 1px;}#sk-container-id-3 div.sk-estimator {font-family: monospace;background-color: #f0f8ff;border: 1px dotted black;border-radius: 0.25em;box-sizing: border-box;margin-bottom: 0.5em;}#sk-container-id-3 div.sk-estimator:hover {background-color: #d4ebff;}#sk-container-id-3 div.sk-parallel-item::after {content: \"\";width: 100%;border-bottom: 1px solid gray;flex-grow: 1;}#sk-container-id-3 div.sk-label:hover label.sk-toggleable__label {background-color: #d4ebff;}#sk-container-id-3 div.sk-serial::before {content: \"\";position: absolute;border-left: 1px solid gray;box-sizing: border-box;top: 0;bottom: 0;left: 50%;z-index: 0;}#sk-container-id-3 div.sk-serial {display: flex;flex-direction: column;align-items: center;background-color: white;padding-right: 0.2em;padding-left: 0.2em;position: relative;}#sk-container-id-3 div.sk-item {position: relative;z-index: 1;}#sk-container-id-3 div.sk-parallel {display: flex;align-items: stretch;justify-content: center;background-color: white;position: relative;}#sk-container-id-3 div.sk-item::before, #sk-container-id-3 div.sk-parallel-item::before {content: \"\";position: absolute;border-left: 1px solid gray;box-sizing: border-box;top: 0;bottom: 0;left: 50%;z-index: -1;}#sk-container-id-3 div.sk-parallel-item {display: flex;flex-direction: column;z-index: 1;position: relative;background-color: white;}#sk-container-id-3 div.sk-parallel-item:first-child::after {align-self: flex-end;width: 50%;}#sk-container-id-3 div.sk-parallel-item:last-child::after {align-self: flex-start;width: 50%;}#sk-container-id-3 div.sk-parallel-item:only-child::after {width: 0;}#sk-container-id-3 div.sk-dashed-wrapped {border: 1px dashed gray;margin: 0 0.4em 0.5em 0.4em;box-sizing: border-box;padding-bottom: 0.4em;background-color: white;}#sk-container-id-3 div.sk-label label {font-family: monospace;font-weight: bold;display: inline-block;line-height: 1.2em;}#sk-container-id-3 div.sk-label-container {text-align: center;}#sk-container-id-3 div.sk-container {/* jupyter's `normalize.less` sets `[hidden] { display: none; }` but bootstrap.min.css set `[hidden] { display: none !important; }` so we also need the `!important` here to be able to override the default hidden behavior on the sphinx rendered scikit-learn.org. See: https://github.com/scikit-learn/scikit-learn/issues/21755 */display: inline-block !important;position: relative;}#sk-container-id-3 div.sk-text-repr-fallback {display: none;}</style><div id=\"sk-container-id-3\" class=\"sk-top-container\"><div class=\"sk-text-repr-fallback\"><pre>RandomForestClassifier(random_state=42)</pre><b>In a Jupyter environment, please rerun this cell to show the HTML representation or trust the notebook. <br />On GitHub, the HTML representation is unable to render, please try loading this page with nbviewer.org.</b></div><div class=\"sk-container\" hidden><div class=\"sk-item\"><div class=\"sk-estimator sk-toggleable\"><input class=\"sk-toggleable__control sk-hidden--visually\" id=\"sk-estimator-id-3\" type=\"checkbox\" checked><label for=\"sk-estimator-id-3\" class=\"sk-toggleable__label sk-toggleable__label-arrow\">RandomForestClassifier</label><div class=\"sk-toggleable__content\"><pre>RandomForestClassifier(random_state=42)</pre></div></div></div></div></div>"
      ],
      "text/plain": [
       "RandomForestClassifier(random_state=42)"
      ]
     },
     "execution_count": 171,
     "metadata": {},
     "output_type": "execute_result"
    }
   ],
   "source": [
    "rf = RandomForestClassifier(n_estimators=100, random_state=42)\n",
    "rf.fit(x_train, y_train)\n"
   ]
  },
  {
   "cell_type": "code",
   "execution_count": 172,
   "id": "6669a7b8",
   "metadata": {},
   "outputs": [
    {
     "data": {
      "image/png": "[encoded data removed]",
      "text/plain": [
       "<Figure size 1000x600 with 1 Axes>"
      ]
     },
     "metadata": {},
     "output_type": "display_data"
    }
   ],
   "source": [
    "importances = rf.feature_importances_\n",
    "feature_names = x.columns\n",
    "feat_importances = pd.Series(importances, index=feature_names)\n",
    "feat_importances = feat_importances.sort_values(ascending=False)\n",
    "plt.figure(figsize=(10,6))\n",
    "feat_importances.plot(kind='bar')\n",
    "plt.title('Importance des variables selon la forêt aléatoire')\n",
    "plt.ylabel('Score d\\'importance')\n",
    "plt.tight_layout()\n",
    "plt.show()"
   ]
  },
  {
   "cell_type": "markdown",
   "id": "0d473182",
   "metadata": {},
   "source": [
    "\n",
    "\n",
    "### Model Results\n",
    "\n",
    "Our model comparison shows that **Random Forest** and **XGBoost** perform the best. These models achieve excellent generalization, with **ROC AUC scores above 0.80** and **test accuracy reaching around 81%**.\n",
    "\n",
    "We used **stratified sampling** to maintain the original distribution of the target variable across training and test sets. This approach ensures realistic and robust results without relying on oversampling methods like SMOTE.\n",
    "\n",
    "---\n",
    "\n",
    "### Key Influential Features\n",
    "\n",
    "Among all the variables analyzed, the most influential in predicting employment are:\n",
    "- Employment **Status**,\n",
    "- **Age**,\n",
    "- **Province** of residence,\n",
    "- **Education level** (especially Matric, Diploma, Degree),\n",
    "- **School quintile**,\n",
    "- Employment **Tenure**,\n",
    "- **Income tier** of the province.\n",
    "\n",
    "These features provide deep insight into the factors influencing youth employment in the country.\n",
    "\n",
    "---\n",
    "\n",
    "### Strategic Recommendations\n",
    "\n",
    "#### 1. Target High-Risk Groups\n",
    "Young people aged 18 to 25 with low education levels (Matric or less) living in low-income provinces (like Limpopo or Eastern Cape) are most at risk of unemployment.\n",
    "\n",
    "These groups should be the top priority for government and NGO interventions through:\n",
    "- Vocational training programs,\n",
    "- Subsidized internships,\n",
    "- Career mentorship initiatives.\n",
    "\n",
    "#### 2. Allocate Resources Regionally\n",
    "We recommend different strategies based on regional income levels:\n",
    "\n",
    "- **High-income provinces** (e.g., Gauteng, Western Cape) should partner with businesses to create job pipelines and startup incubators.\n",
    "- **Low-income provinces** need investments in basic education infrastructure, technical schools, and community-based job programs.\n",
    "\n",
    "Tracking **regional ROC AUC scores** over time can be a useful way to measure policy impact.\n",
    "\n",
    "#### 3. Launch Awareness Campaigns\n",
    "Education proves to be a key predictor of employment. Awareness campaigns such as **“A degree opens doors to employment”** should be targeted to young adults (18–30 years old), especially through social media.\n",
    "\n",
    "These campaigns could include:\n",
    "- Career simulation tools,\n",
    "- Testimonials from employed graduates,\n",
    "- Motivational content encouraging continued education.\n",
    "\n",
    "#### 4. Improve Data Quality\n",
    "Important features like **Tenure** and **School Quintile** still suffer from missing or unreliable data. Improving the quality of data collection during national surveys is essential.\n",
    "\n",
    "At the same time, redundant or low-impact variables (e.g., Birth Year) can be removed to simplify and improve model performance.\n",
    "\n",
    "---\n",
    "\n",
    "### Conclusion\n",
    "\n",
    "By using high-performing models such as **Random Forest** and **XGBoost**, combined with stratified sampling and carefully selected features, we can accurately predict employment status in South Africa.\n",
    "\n",
    "These insights allow for **evidence-based policies** to reduce youth unemployment, improve access to education, and allocate resources more efficiently by region.\n",
    "\n",
    "The model can be integrated into dashboards to help policymakers **prioritize actions** and **track progress** over time.\n"
   ]
  }
 ],
 "metadata": {
  "kernelspec": {
   "display_name": "Python 3",
   "language": "python",
   "name": "python3"
  },
  "language_info": {
   "codemirror_mode": {
    "name": "ipython",
    "version": 3
   },
   "file_extension": ".py",
   "mimetype": "text/x-python",
   "name": "python",
   "nbconvert_exporter": "python",
   "pygments_lexer": "ipython3",
   "version": "3.12.6"
  }
 },
 "nbformat": 4,
 "nbformat_minor": 5
}
