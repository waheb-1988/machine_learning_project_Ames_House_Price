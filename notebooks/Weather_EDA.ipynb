{
 "cells": [
  {
   "cell_type": "markdown",
   "metadata": {},
   "source": [
    "## Exploratory Data Analysis (EDA)"
   ]
  },
  {
   "cell_type": "markdown",
   "metadata": {},
   "source": [
    "### Business Context:\n",
    "This dataset pertains to residential properties in Ames, Iowa, and is aimed at modeling or predicting house sale prices. The goal of such a predictive model is to estimate the property's sale price based on various attributes such as location, size, condition, and amenities. This could be useful for:\n",
    "\n",
    "- **Real Estate Valuation:** Real estate agencies and appraisers can use this model to estimate property values accurately, aiding in setting competitive listing prices.\n",
    "- **Investment Analysis:** Investors can assess the potential profitability of buying, renovating, and selling properties by predicting future sale prices.\n",
    "- **Buyer Assistance:** Helping potential buyers make informed decisions by providing estimated values for properties they are interested in.\n",
    "Property Tax Assessment:** Local governments could use the model to estimate property values for more accurate property tax assessments.\n",
    "- **Market Trend Analysis:** Identifying market trends and patterns in property prices across different neighborhoods and property types.\n",
    "- **Customized Marketing:** Real estate companies can tailor marketing strategies based on property features and target suitable buyer segments.\n"
   ]
  },
  {
   "cell_type": "markdown",
   "metadata": {},
   "source": [
    "### Packages and Libraries"
   ]
  },
  {
   "cell_type": "code",
   "execution_count": 1,
   "metadata": {},
   "outputs": [],
   "source": [
    "import pandas as pd \n",
    "import pathlib\n",
    "import os\n",
    "import seaborn as sns\n",
    "import matplotlib.pyplot as plt\n",
    "from scipy.stats import pearsonr\n",
    "import numpy as np\n",
    "from sklearn.preprocessing import LabelEncoder\n",
    "from sklearn.pipeline import Pipeline\n",
    "from sklearn.preprocessing import StandardScaler,MinMaxScaler\n",
    "from sklearn.impute import SimpleImputer\n",
    "from sklearn.preprocessing import OneHotEncoder,OrdinalEncoder\n",
    "from sklearn.decomposition import PCA\n",
    "from sklearn.tree import DecisionTreeRegressor\n",
    "from xgboost import XGBRegressor\n",
    "\n",
    "#https://medium.com/@prosun.csedu/polynomialfeatures-is-a-preprocessing-tool-provided-by-the-scikit-learn-library-in-python-that-is-84118adea049"
   ]
  },
  {
   "cell_type": "markdown",
   "metadata": {},
   "source": [
    "### Read data"
   ]
  },
  {
   "cell_type": "code",
   "execution_count": 8,
   "metadata": {},
   "outputs": [
    {
     "name": "stdout",
     "output_type": "stream",
     "text": [
      "c:\\Abdelouaheb\\perso\\Data_science_2024_projects\\2025\\machine_learning_project_Ames_House_Price\n",
      "c:\\Abdelouaheb\\perso\\Data_science_2024_projects\\2025\\machine_learning_project_Ames_House_Price\\data\n"
     ]
    },
    {
     "data": {
      "text/html": [
       "<div>\n",
       "<style scoped>\n",
       "    .dataframe tbody tr th:only-of-type {\n",
       "        vertical-align: middle;\n",
       "    }\n",
       "\n",
       "    .dataframe tbody tr th {\n",
       "        vertical-align: top;\n",
       "    }\n",
       "\n",
       "    .dataframe thead th {\n",
       "        text-align: right;\n",
       "    }\n",
       "</style>\n",
       "<table border=\"1\" class=\"dataframe\">\n",
       "  <thead>\n",
       "    <tr style=\"text-align: right;\">\n",
       "      <th></th>\n",
       "      <th>Date</th>\n",
       "      <th>Location</th>\n",
       "      <th>MinTemp</th>\n",
       "      <th>MaxTemp</th>\n",
       "      <th>Rainfall</th>\n",
       "      <th>Evaporation</th>\n",
       "      <th>Sunshine</th>\n",
       "      <th>WindGustDir</th>\n",
       "      <th>WindGustSpeed</th>\n",
       "      <th>WindDir9am</th>\n",
       "      <th>...</th>\n",
       "      <th>Humidity3pm</th>\n",
       "      <th>Pressure9am</th>\n",
       "      <th>Pressure3pm</th>\n",
       "      <th>Cloud9am</th>\n",
       "      <th>Cloud3pm</th>\n",
       "      <th>Temp9am</th>\n",
       "      <th>Temp3pm</th>\n",
       "      <th>RainToday</th>\n",
       "      <th>RISK_MM</th>\n",
       "      <th>RainTomorrow</th>\n",
       "    </tr>\n",
       "  </thead>\n",
       "  <tbody>\n",
       "    <tr>\n",
       "      <th>0</th>\n",
       "      <td>2008-12-01</td>\n",
       "      <td>Albury</td>\n",
       "      <td>13.4</td>\n",
       "      <td>22.9</td>\n",
       "      <td>0.6</td>\n",
       "      <td>NaN</td>\n",
       "      <td>NaN</td>\n",
       "      <td>W</td>\n",
       "      <td>44.0</td>\n",
       "      <td>W</td>\n",
       "      <td>...</td>\n",
       "      <td>22.0</td>\n",
       "      <td>1007.7</td>\n",
       "      <td>1007.1</td>\n",
       "      <td>8.0</td>\n",
       "      <td>NaN</td>\n",
       "      <td>16.9</td>\n",
       "      <td>21.8</td>\n",
       "      <td>No</td>\n",
       "      <td>0.0</td>\n",
       "      <td>No</td>\n",
       "    </tr>\n",
       "    <tr>\n",
       "      <th>1</th>\n",
       "      <td>2008-12-02</td>\n",
       "      <td>Albury</td>\n",
       "      <td>7.4</td>\n",
       "      <td>25.1</td>\n",
       "      <td>0.0</td>\n",
       "      <td>NaN</td>\n",
       "      <td>NaN</td>\n",
       "      <td>WNW</td>\n",
       "      <td>44.0</td>\n",
       "      <td>NNW</td>\n",
       "      <td>...</td>\n",
       "      <td>25.0</td>\n",
       "      <td>1010.6</td>\n",
       "      <td>1007.8</td>\n",
       "      <td>NaN</td>\n",
       "      <td>NaN</td>\n",
       "      <td>17.2</td>\n",
       "      <td>24.3</td>\n",
       "      <td>No</td>\n",
       "      <td>0.0</td>\n",
       "      <td>No</td>\n",
       "    </tr>\n",
       "    <tr>\n",
       "      <th>2</th>\n",
       "      <td>2008-12-03</td>\n",
       "      <td>Albury</td>\n",
       "      <td>12.9</td>\n",
       "      <td>25.7</td>\n",
       "      <td>0.0</td>\n",
       "      <td>NaN</td>\n",
       "      <td>NaN</td>\n",
       "      <td>WSW</td>\n",
       "      <td>46.0</td>\n",
       "      <td>W</td>\n",
       "      <td>...</td>\n",
       "      <td>30.0</td>\n",
       "      <td>1007.6</td>\n",
       "      <td>1008.7</td>\n",
       "      <td>NaN</td>\n",
       "      <td>2.0</td>\n",
       "      <td>21.0</td>\n",
       "      <td>23.2</td>\n",
       "      <td>No</td>\n",
       "      <td>0.0</td>\n",
       "      <td>No</td>\n",
       "    </tr>\n",
       "    <tr>\n",
       "      <th>3</th>\n",
       "      <td>2008-12-04</td>\n",
       "      <td>Albury</td>\n",
       "      <td>9.2</td>\n",
       "      <td>28.0</td>\n",
       "      <td>0.0</td>\n",
       "      <td>NaN</td>\n",
       "      <td>NaN</td>\n",
       "      <td>NE</td>\n",
       "      <td>24.0</td>\n",
       "      <td>SE</td>\n",
       "      <td>...</td>\n",
       "      <td>16.0</td>\n",
       "      <td>1017.6</td>\n",
       "      <td>1012.8</td>\n",
       "      <td>NaN</td>\n",
       "      <td>NaN</td>\n",
       "      <td>18.1</td>\n",
       "      <td>26.5</td>\n",
       "      <td>No</td>\n",
       "      <td>1.0</td>\n",
       "      <td>No</td>\n",
       "    </tr>\n",
       "    <tr>\n",
       "      <th>4</th>\n",
       "      <td>2008-12-05</td>\n",
       "      <td>Albury</td>\n",
       "      <td>17.5</td>\n",
       "      <td>32.3</td>\n",
       "      <td>1.0</td>\n",
       "      <td>NaN</td>\n",
       "      <td>NaN</td>\n",
       "      <td>W</td>\n",
       "      <td>41.0</td>\n",
       "      <td>ENE</td>\n",
       "      <td>...</td>\n",
       "      <td>33.0</td>\n",
       "      <td>1010.8</td>\n",
       "      <td>1006.0</td>\n",
       "      <td>7.0</td>\n",
       "      <td>8.0</td>\n",
       "      <td>17.8</td>\n",
       "      <td>29.7</td>\n",
       "      <td>No</td>\n",
       "      <td>0.2</td>\n",
       "      <td>No</td>\n",
       "    </tr>\n",
       "  </tbody>\n",
       "</table>\n",
       "<p>5 rows × 24 columns</p>\n",
       "</div>"
      ],
      "text/plain": [
       "         Date Location  MinTemp  MaxTemp  Rainfall  Evaporation  Sunshine  \\\n",
       "0  2008-12-01   Albury     13.4     22.9       0.6          NaN       NaN   \n",
       "1  2008-12-02   Albury      7.4     25.1       0.0          NaN       NaN   \n",
       "2  2008-12-03   Albury     12.9     25.7       0.0          NaN       NaN   \n",
       "3  2008-12-04   Albury      9.2     28.0       0.0          NaN       NaN   \n",
       "4  2008-12-05   Albury     17.5     32.3       1.0          NaN       NaN   \n",
       "\n",
       "  WindGustDir  WindGustSpeed WindDir9am  ... Humidity3pm  Pressure9am  \\\n",
       "0           W           44.0          W  ...        22.0       1007.7   \n",
       "1         WNW           44.0        NNW  ...        25.0       1010.6   \n",
       "2         WSW           46.0          W  ...        30.0       1007.6   \n",
       "3          NE           24.0         SE  ...        16.0       1017.6   \n",
       "4           W           41.0        ENE  ...        33.0       1010.8   \n",
       "\n",
       "   Pressure3pm  Cloud9am  Cloud3pm  Temp9am  Temp3pm  RainToday  RISK_MM  \\\n",
       "0       1007.1       8.0       NaN     16.9     21.8         No      0.0   \n",
       "1       1007.8       NaN       NaN     17.2     24.3         No      0.0   \n",
       "2       1008.7       NaN       2.0     21.0     23.2         No      0.0   \n",
       "3       1012.8       NaN       NaN     18.1     26.5         No      1.0   \n",
       "4       1006.0       7.0       8.0     17.8     29.7         No      0.2   \n",
       "\n",
       "   RainTomorrow  \n",
       "0            No  \n",
       "1            No  \n",
       "2            No  \n",
       "3            No  \n",
       "4            No  \n",
       "\n",
       "[5 rows x 24 columns]"
      ]
     },
     "execution_count": 8,
     "metadata": {},
     "output_type": "execute_result"
    }
   ],
   "source": [
    "def read_file(file_name : str )  -> pd.DataFrame:\n",
    "    \"\"\"\n",
    "    summary\n",
    "    \"\"\"\n",
    "    try:\n",
    "        dir_folder = pathlib.Path().cwd().parent\n",
    "        print(dir_folder)\n",
    "        file_path  = dir_folder / \"data\" \n",
    "        print(file_path)\n",
    "        df = pd.read_csv(os.path.join(file_path/file_name))\n",
    "        return df\n",
    "    except FileNotFoundError:\n",
    "        print(f\"Error: The file at '{file_name}' was not found.\")\n",
    "        raise\n",
    "    except Exception as e:\n",
    "         print(f\"An error occurred: {e}\")\n",
    "        \n",
    "        \n",
    "        \n",
    "df = read_file('weatherAUS.csv')      \n",
    "  \n",
    "df.head()   \n",
    "\n",
    "\n",
    "\n"
   ]
  },
  {
   "cell_type": "markdown",
   "metadata": {},
   "source": [
    "### Data structure"
   ]
  },
  {
   "cell_type": "code",
   "execution_count": 3,
   "metadata": {},
   "outputs": [],
   "source": [
    "def data_diagnostic(df):\n",
    "        print(\"#\"*50)\n",
    "        print(df.info())\n",
    "        print(\"#\"*50)\n",
    "        print(\"The number of total rows  {x: .0f} \".format(x=df.shape[0]))\n",
    "        print(\"The number of total variables {x: .0f} \".format(x=df.shape[1]))\n",
    "        print(\"The variables names {x:} \".format(x=list(df.columns.values)))\n",
    "\n",
    "        column_headers =list(df.columns.values)\n",
    "        qualitative_columns = [col for col in column_headers if df[col].dtype==\"object\"]\n",
    "        quantitative_columns = [col for col in column_headers if df[col].dtype in ['int64', 'float64']]\n",
    "\n",
    "        print(\"The qualitative variables {x:} \".format(x=qualitative_columns))\n",
    "        print(\"The quantitative variables {x:} \".format(x=quantitative_columns))\n",
    "        print(\"#\"*50)\n",
    "        print(\"Total number missing value {x:} \".format(x=df.isnull().sum()))"
   ]
  },
  {
   "cell_type": "code",
   "execution_count": 4,
   "metadata": {},
   "outputs": [
    {
     "name": "stdout",
     "output_type": "stream",
     "text": [
      "##################################################\n",
      "<class 'pandas.core.frame.DataFrame'>\n",
      "RangeIndex: 142193 entries, 0 to 142192\n",
      "Data columns (total 24 columns):\n",
      " #   Column         Non-Null Count   Dtype  \n",
      "---  ------         --------------   -----  \n",
      " 0   Date           142193 non-null  object \n",
      " 1   Location       142193 non-null  object \n",
      " 2   MinTemp        141556 non-null  float64\n",
      " 3   MaxTemp        141871 non-null  float64\n",
      " 4   Rainfall       140787 non-null  float64\n",
      " 5   Evaporation    81350 non-null   float64\n",
      " 6   Sunshine       74377 non-null   float64\n",
      " 7   WindGustDir    132863 non-null  object \n",
      " 8   WindGustSpeed  132923 non-null  float64\n",
      " 9   WindDir9am     132180 non-null  object \n",
      " 10  WindDir3pm     138415 non-null  object \n",
      " 11  WindSpeed9am   140845 non-null  float64\n",
      " 12  WindSpeed3pm   139563 non-null  float64\n",
      " 13  Humidity9am    140419 non-null  float64\n",
      " 14  Humidity3pm    138583 non-null  float64\n",
      " 15  Pressure9am    128179 non-null  float64\n",
      " 16  Pressure3pm    128212 non-null  float64\n",
      " 17  Cloud9am       88536 non-null   float64\n",
      " 18  Cloud3pm       85099 non-null   float64\n",
      " 19  Temp9am        141289 non-null  float64\n",
      " 20  Temp3pm        139467 non-null  float64\n",
      " 21  RainToday      140787 non-null  object \n",
      " 22  RISK_MM        142193 non-null  float64\n",
      " 23  RainTomorrow   142193 non-null  object \n",
      "dtypes: float64(17), object(7)\n",
      "memory usage: 26.0+ MB\n",
      "None\n",
      "##################################################\n",
      "The number of total rows   142193 \n",
      "The number of total variables  24 \n",
      "The variables names ['Date', 'Location', 'MinTemp', 'MaxTemp', 'Rainfall', 'Evaporation', 'Sunshine', 'WindGustDir', 'WindGustSpeed', 'WindDir9am', 'WindDir3pm', 'WindSpeed9am', 'WindSpeed3pm', 'Humidity9am', 'Humidity3pm', 'Pressure9am', 'Pressure3pm', 'Cloud9am', 'Cloud3pm', 'Temp9am', 'Temp3pm', 'RainToday', 'RISK_MM', 'RainTomorrow'] \n",
      "The qualitative variables ['Date', 'Location', 'WindGustDir', 'WindDir9am', 'WindDir3pm', 'RainToday', 'RainTomorrow'] \n",
      "The quantitative variables ['MinTemp', 'MaxTemp', 'Rainfall', 'Evaporation', 'Sunshine', 'WindGustSpeed', 'WindSpeed9am', 'WindSpeed3pm', 'Humidity9am', 'Humidity3pm', 'Pressure9am', 'Pressure3pm', 'Cloud9am', 'Cloud3pm', 'Temp9am', 'Temp3pm', 'RISK_MM'] \n",
      "##################################################\n",
      "Total number missing value Date                 0\n",
      "Location             0\n",
      "MinTemp            637\n",
      "MaxTemp            322\n",
      "Rainfall          1406\n",
      "Evaporation      60843\n",
      "Sunshine         67816\n",
      "WindGustDir       9330\n",
      "WindGustSpeed     9270\n",
      "WindDir9am       10013\n",
      "WindDir3pm        3778\n",
      "WindSpeed9am      1348\n",
      "WindSpeed3pm      2630\n",
      "Humidity9am       1774\n",
      "Humidity3pm       3610\n",
      "Pressure9am      14014\n",
      "Pressure3pm      13981\n",
      "Cloud9am         53657\n",
      "Cloud3pm         57094\n",
      "Temp9am            904\n",
      "Temp3pm           2726\n",
      "RainToday         1406\n",
      "RISK_MM              0\n",
      "RainTomorrow         0\n",
      "dtype: int64 \n"
     ]
    }
   ],
   "source": [
    "data_diagnostic(df)"
   ]
  },
  {
   "cell_type": "code",
   "execution_count": 5,
   "metadata": {},
   "outputs": [
    {
     "name": "stdout",
     "output_type": "stream",
     "text": [
      "# of NaNs in df:\n"
     ]
    },
    {
     "data": {
      "text/plain": [
       "Sunshine         67816\n",
       "Evaporation      60843\n",
       "Cloud3pm         57094\n",
       "Cloud9am         53657\n",
       "Pressure9am      14014\n",
       "Pressure3pm      13981\n",
       "WindDir9am       10013\n",
       "WindGustDir       9330\n",
       "WindGustSpeed     9270\n",
       "WindDir3pm        3778\n",
       "Humidity3pm       3610\n",
       "Temp3pm           2726\n",
       "WindSpeed3pm      2630\n",
       "Humidity9am       1774\n",
       "RainToday         1406\n",
       "Rainfall          1406\n",
       "WindSpeed9am      1348\n",
       "Temp9am            904\n",
       "MinTemp            637\n",
       "MaxTemp            322\n",
       "dtype: int64"
      ]
     },
     "execution_count": 5,
     "metadata": {},
     "output_type": "execute_result"
    }
   ],
   "source": [
    "def na(df, percent = True, verbose = True):\n",
    "    srs = df.isna().sum()[df.isna().sum() > 0]\n",
    "    srs = srs.sort_values(ascending=False)\n",
    "    if percent:\n",
    "       if verbose:\n",
    "           print('% of NaNs in df:')\n",
    "       return srs / df.shape[0]\n",
    "    else:\n",
    "        if verbose:\n",
    "           print('# of NaNs in df:')\n",
    "        return srs\n",
    "\n",
    "na(df, False)"
   ]
  },
  {
   "cell_type": "code",
   "execution_count": 6,
   "metadata": {},
   "outputs": [
    {
     "data": {
      "image/png": "[encoded data removed]",
      "text/plain": [
       "<Figure size 1500x800 with 1 Axes>"
      ]
     },
     "metadata": {},
     "output_type": "display_data"
    }
   ],
   "source": [
    "#Calculate the percentage of NaNs per column\n",
    "na_percentage = (df.isna().sum() / len(df)) * 100\n",
    "\n",
    "# Filter out columns with no missing values\n",
    "na_percentage = na_percentage[na_percentage > 0]\n",
    "\n",
    "# Sort by the percentage of missing values\n",
    "na_percentage = na_percentage.sort_values(ascending=False)\n",
    "\n",
    "# Plot the percentage of missing values\n",
    "plt.figure(figsize=(15, 8))\n",
    "na_percentage.plot(kind='bar', color='orange')\n",
    "plt.title('Percentage of Missing Values per Column')\n",
    "plt.xlabel('Columns')\n",
    "plt.ylabel('Percentage of Missing Values')\n",
    "plt.xticks(rotation=90)\n",
    "plt.grid(axis='y', linestyle='--', alpha=0.7)\n",
    "plt.show()\n"
   ]
  },
  {
   "cell_type": "markdown",
   "metadata": {},
   "source": [
    "### Analyse univary"
   ]
  },
  {
   "cell_type": "markdown",
   "metadata": {},
   "source": [
    "#### Numerical varaiables"
   ]
  },
  {
   "cell_type": "code",
   "execution_count": 7,
   "metadata": {},
   "outputs": [
    {
     "name": "stdout",
     "output_type": "stream",
     "text": [
      "Df dtypes:\n"
     ]
    },
    {
     "data": {
      "text/plain": [
       "dtype\n",
       "float64    17\n",
       "object      7\n",
       "dtype: int64"
      ]
     },
     "execution_count": 7,
     "metadata": {},
     "output_type": "execute_result"
    }
   ],
   "source": [
    "dtypes = df.dtypes.to_frame().reset_index()\n",
    "dtypes.columns = ['col', 'dtype']\n",
    "print('Df dtypes:')\n",
    "dtypes.groupby('dtype').size()"
   ]
  },
  {
   "cell_type": "code",
   "execution_count": 8,
   "metadata": {},
   "outputs": [],
   "source": [
    "def numeric_analysis(df):\n",
    "        \n",
    "    \n",
    "        return print(df.describe().T)"
   ]
  },
  {
   "cell_type": "code",
   "execution_count": 9,
   "metadata": {},
   "outputs": [
    {
     "name": "stdout",
     "output_type": "stream",
     "text": [
      "                  count         mean        std    min     25%     50%  \\\n",
      "MinTemp        141556.0    12.186400   6.403283   -8.5     7.6    12.0   \n",
      "MaxTemp        141871.0    23.226784   7.117618   -4.8    17.9    22.6   \n",
      "Rainfall       140787.0     2.349974   8.465173    0.0     0.0     0.0   \n",
      "Evaporation     81350.0     5.469824   4.188537    0.0     2.6     4.8   \n",
      "Sunshine        74377.0     7.624853   3.781525    0.0     4.9     8.5   \n",
      "WindGustSpeed  132923.0    39.984292  13.588801    6.0    31.0    39.0   \n",
      "WindSpeed9am   140845.0    14.001988   8.893337    0.0     7.0    13.0   \n",
      "WindSpeed3pm   139563.0    18.637576   8.803345    0.0    13.0    19.0   \n",
      "Humidity9am    140419.0    68.843810  19.051293    0.0    57.0    70.0   \n",
      "Humidity3pm    138583.0    51.482606  20.797772    0.0    37.0    52.0   \n",
      "Pressure9am    128179.0  1017.653758   7.105476  980.5  1012.9  1017.6   \n",
      "Pressure3pm    128212.0  1015.258204   7.036677  977.1  1010.4  1015.2   \n",
      "Cloud9am        88536.0     4.437189   2.887016    0.0     1.0     5.0   \n",
      "Cloud3pm        85099.0     4.503167   2.720633    0.0     2.0     5.0   \n",
      "Temp9am        141289.0    16.987509   6.492838   -7.2    12.3    16.7   \n",
      "Temp3pm        139467.0    21.687235   6.937594   -5.4    16.6    21.1   \n",
      "RISK_MM        142193.0     2.360682   8.477969    0.0     0.0     0.0   \n",
      "\n",
      "                  75%     max  \n",
      "MinTemp          16.8    33.9  \n",
      "MaxTemp          28.2    48.1  \n",
      "Rainfall          0.8   371.0  \n",
      "Evaporation       7.4   145.0  \n",
      "Sunshine         10.6    14.5  \n",
      "WindGustSpeed    48.0   135.0  \n",
      "WindSpeed9am     19.0   130.0  \n",
      "WindSpeed3pm     24.0    87.0  \n",
      "Humidity9am      83.0   100.0  \n",
      "Humidity3pm      66.0   100.0  \n",
      "Pressure9am    1022.4  1041.0  \n",
      "Pressure3pm    1020.0  1039.6  \n",
      "Cloud9am          7.0     9.0  \n",
      "Cloud3pm          7.0     9.0  \n",
      "Temp9am          21.6    40.2  \n",
      "Temp3pm          26.4    46.7  \n",
      "RISK_MM           0.8   371.0  \n"
     ]
    }
   ],
   "source": [
    "numeric_analysis(df)"
   ]
  },
  {
   "cell_type": "markdown",
   "metadata": {},
   "source": [
    "#### Numerical varaiables visualization"
   ]
  },
  {
   "cell_type": "code",
   "execution_count": 10,
   "metadata": {},
   "outputs": [],
   "source": [
    "def univariate_analysis(df, base_folder=\"univariate_analysis\"):\n",
    "        # Ensure the base folder exists\n",
    "        if not os.path.exists(base_folder):\n",
    "            os.makedirs(base_folder)\n",
    "        \n",
    "        # Select numeric columns\n",
    "        numeric_cols = df.select_dtypes(include=['number']).columns\n",
    "        \n",
    "        for col in numeric_cols:\n",
    "            # Create a folder for the analysis\n",
    "            col_folder = os.path.join(base_folder, col)\n",
    "            if not os.path.exists(col_folder):\n",
    "                os.makedirs(col_folder)\n",
    "            \n",
    "            print(f\"\\nPerforming Univariate Analysis for: {col}\")\n",
    "            \n",
    "            # Create a single figure with 2x2 layout\n",
    "            fig, axes = plt.subplots(2, 2, figsize=(12, 10))\n",
    "            fig.suptitle(f'Univariate Analysis for {col}', fontsize=16)\n",
    "            \n",
    "            # Bar Chart\n",
    "            sns.barplot(\n",
    "                x=df[col].value_counts().index, \n",
    "                y=df[col].value_counts().values, \n",
    "                palette=\"viridis\", \n",
    "                ax=axes[0, 0]\n",
    "            )\n",
    "            axes[0, 0].set_title('Bar Chart')\n",
    "            axes[0, 0].set_xlabel(col)\n",
    "            axes[0, 0].set_ylabel('Frequency')\n",
    "            \n",
    "            # Box Plot\n",
    "            sns.boxplot(y=df[col], palette=\"viridis\", ax=axes[0, 1])\n",
    "            axes[0, 1].set_title('Box Plot')\n",
    "            axes[0, 1].set_xlabel(col)\n",
    "            \n",
    "            # Density Plot\n",
    "            sns.kdeplot(df[col], fill=True, color=\"blue\", alpha=0.6, ax=axes[1, 0])\n",
    "            axes[1, 0].set_title('Density Plot')\n",
    "            axes[1, 0].set_xlabel(col)\n",
    "            axes[1, 0].set_ylabel('Density')\n",
    "            \n",
    "            # Histogram\n",
    "            sns.histplot(df[col], kde=False, color=\"green\", ax=axes[1, 1])\n",
    "            axes[1, 1].set_title('Histogram')\n",
    "            axes[1, 1].set_xlabel(col)\n",
    "            axes[1, 1].set_ylabel('Frequency')\n",
    "            \n",
    "            # Adjust layout\n",
    "            plt.tight_layout(rect=[0, 0, 1, 0.96])  # Make room for the main title\n",
    "            \n",
    "            # Save the combined plot\n",
    "            combined_plot_path = os.path.join(col_folder, f\"{col}_univariate_analysis.png\")\n",
    "            plt.savefig(combined_plot_path, bbox_inches='tight')\n",
    "            plt.close()\n",
    "            \n",
    "            print(f\"Combined plots for {col} saved in: {combined_plot_path}\")"
   ]
  },
  {
   "cell_type": "code",
   "execution_count": null,
   "metadata": {},
   "outputs": [],
   "source": [
    "univariate_analysis(df, base_folder=\"univariate_analysis\")"
   ]
  },
  {
   "cell_type": "markdown",
   "metadata": {},
   "source": [
    "#### Categorical varaiables"
   ]
  },
  {
   "cell_type": "code",
   "execution_count": 12,
   "metadata": {},
   "outputs": [],
   "source": [
    "def categorical_analysis(df):\n",
    "    return print(df.select_dtypes(include='object').describe().T)"
   ]
  },
  {
   "cell_type": "code",
   "execution_count": 13,
   "metadata": {},
   "outputs": [
    {
     "name": "stdout",
     "output_type": "stream",
     "text": [
      "               count unique         top    freq\n",
      "Date          142193   3436  2013-12-01      49\n",
      "Location      142193     49    Canberra    3418\n",
      "WindGustDir   132863     16           W    9780\n",
      "WindDir9am    132180     16           N   11393\n",
      "WindDir3pm    138415     16          SE   10663\n",
      "RainToday     140787      2          No  109332\n",
      "RainTomorrow  142193      2          No  110316\n"
     ]
    }
   ],
   "source": [
    "categorical_analysis(df)\n",
    "# Percentage"
   ]
  },
  {
   "cell_type": "markdown",
   "metadata": {},
   "source": [
    "#### Categorical varaiables visualization"
   ]
  },
  {
   "cell_type": "code",
   "execution_count": 14,
   "metadata": {},
   "outputs": [],
   "source": [
    "def univariate_analysis_categorical(df, base_folder=\"univariate_analysis_categorical\"):\n",
    "    # Ensure the base folder exists\n",
    "    if not os.path.exists(base_folder):\n",
    "        os.makedirs(base_folder)\n",
    "    \n",
    "    # Select categorical columns\n",
    "    categorical_cols = df.select_dtypes(include=['object', 'category']).columns\n",
    "    \n",
    "    for col in categorical_cols:\n",
    "        # Create a folder for the analysis\n",
    "        col_folder = os.path.join(base_folder, col)\n",
    "        if not os.path.exists(col_folder):\n",
    "            os.makedirs(col_folder)\n",
    "        \n",
    "        print(f\"\\nPerforming Univariate Analysis for: {col}\")\n",
    "        \n",
    "        # Create a figure with 1x2 layout\n",
    "        fig, axes = plt.subplots(1, 2, figsize=(15, 6))\n",
    "        fig.suptitle(f'Univariate Analysis for {col}', fontsize=16)\n",
    "        \n",
    "        # Bar Plot\n",
    "        sns.countplot(x=df[col], palette=\"viridis\", ax=axes[0])\n",
    "        axes[0].set_title('Count Plot')\n",
    "        axes[0].set_xlabel(col)\n",
    "        axes[0].set_ylabel('Frequency')\n",
    "        axes[0].tick_params(axis='x', rotation=45)\n",
    "        \n",
    "        # Pie Chart\n",
    "        df[col].value_counts().plot.pie(\n",
    "            autopct='%1.1f%%', \n",
    "            colors=sns.color_palette(\"viridis\", len(df[col].unique())), \n",
    "            ax=axes[1], \n",
    "            startangle=90\n",
    "        )\n",
    "        axes[1].set_title('Pie Chart')\n",
    "        axes[1].set_ylabel('')  # Remove y-label for better visualization\n",
    "        \n",
    "        # Adjust layout\n",
    "        plt.tight_layout(rect=[0, 0, 1, 0.96])  # Make room for the main title\n",
    "        \n",
    "        # Save the combined plot\n",
    "        combined_plot_path = os.path.join(col_folder, f\"{col}_univariate_analysis.png\")\n",
    "        plt.savefig(combined_plot_path, bbox_inches='tight')\n",
    "        plt.close()\n",
    "        \n",
    "        print(f\"Combined plots for {col} saved in: {combined_plot_path}\")\n"
   ]
  },
  {
   "cell_type": "code",
   "execution_count": null,
   "metadata": {},
   "outputs": [],
   "source": [
    "univariate_analysis_categorical(df, base_folder=\"univariate_analysis_categorical\")"
   ]
  },
  {
   "cell_type": "markdown",
   "metadata": {},
   "source": [
    "### Multyvarie Analysis"
   ]
  },
  {
   "cell_type": "code",
   "execution_count": 16,
   "metadata": {},
   "outputs": [
    {
     "name": "stdout",
     "output_type": "stream",
     "text": [
      "<class 'pandas.core.frame.DataFrame'>\n",
      "RangeIndex: 142193 entries, 0 to 142192\n",
      "Data columns (total 24 columns):\n",
      " #   Column         Non-Null Count   Dtype  \n",
      "---  ------         --------------   -----  \n",
      " 0   Date           142193 non-null  object \n",
      " 1   Location       142193 non-null  object \n",
      " 2   MinTemp        141556 non-null  float64\n",
      " 3   MaxTemp        141871 non-null  float64\n",
      " 4   Rainfall       140787 non-null  float64\n",
      " 5   Evaporation    81350 non-null   float64\n",
      " 6   Sunshine       74377 non-null   float64\n",
      " 7   WindGustDir    132863 non-null  object \n",
      " 8   WindGustSpeed  132923 non-null  float64\n",
      " 9   WindDir9am     132180 non-null  object \n",
      " 10  WindDir3pm     138415 non-null  object \n",
      " 11  WindSpeed9am   140845 non-null  float64\n",
      " 12  WindSpeed3pm   139563 non-null  float64\n",
      " 13  Humidity9am    140419 non-null  float64\n",
      " 14  Humidity3pm    138583 non-null  float64\n",
      " 15  Pressure9am    128179 non-null  float64\n",
      " 16  Pressure3pm    128212 non-null  float64\n",
      " 17  Cloud9am       88536 non-null   float64\n",
      " 18  Cloud3pm       85099 non-null   float64\n",
      " 19  Temp9am        141289 non-null  float64\n",
      " 20  Temp3pm        139467 non-null  float64\n",
      " 21  RainToday      140787 non-null  object \n",
      " 22  RISK_MM        142193 non-null  float64\n",
      " 23  RainTomorrow   142193 non-null  object \n",
      "dtypes: float64(17), object(7)\n",
      "memory usage: 26.0+ MB\n"
     ]
    }
   ],
   "source": [
    "df.info()"
   ]
  },
  {
   "cell_type": "code",
   "execution_count": 3,
   "metadata": {},
   "outputs": [],
   "source": [
    "target = 'RainTomorrow'"
   ]
  },
  {
   "cell_type": "code",
   "execution_count": 18,
   "metadata": {},
   "outputs": [],
   "source": [
    "import os\n",
    "import numpy as np\n",
    "import pandas as pd\n",
    "import seaborn as sns\n",
    "import matplotlib.pyplot as plt\n",
    "from concurrent.futures import ThreadPoolExecutor\n",
    "\n",
    "def multivariate_analysis(target, df, base_folder=\"multivariate_analysis\", sample_frac=0.2):\n",
    "    \"\"\"\n",
    "    Performs multivariate analysis with respect to the target variable.\n",
    "    Outputs:\n",
    "        - Categorical vs Target: Histograms with Density Curves separately by modality.\n",
    "        - Numeric vs Target: Scatter plots with Density Curves separately by modality.\n",
    "    \n",
    "    Parameters:\n",
    "        df (pd.DataFrame): The DataFrame to analyze.\n",
    "        target (str): The target variable for comparison.\n",
    "        base_folder (str): Directory to save the analysis images.\n",
    "        sample_frac (float): Fraction of data to sample for faster plotting.\n",
    "    \"\"\"\n",
    "    # Ensure the base folder exists\n",
    "    if not os.path.exists(base_folder):\n",
    "        os.makedirs(base_folder)\n",
    "    \n",
    "    # --- Categorical vs Target ---\n",
    "    cat_vs_target_folder = os.path.join(base_folder, \"categorical_vs_target\")\n",
    "    if not os.path.exists(cat_vs_target_folder):\n",
    "        os.makedirs(cat_vs_target_folder)\n",
    "    \n",
    "    # Select categorical columns\n",
    "    categorical_cols = df.select_dtypes(include=['object', 'category']).columns\n",
    "    \n",
    "    def plot_categorical_vs_target(col):\n",
    "        print(f\"\\nAnalyzing Categorical vs Target: {target} vs {col}\")\n",
    "        \n",
    "        # Create a grid of histograms by modality of the categorical variable\n",
    "        modalities = df[col].unique()\n",
    "        n_modalities = len(modalities)\n",
    "        fig, axes = plt.subplots(1, n_modalities, figsize=(6 * n_modalities, 6), sharey=True)\n",
    "        \n",
    "        if n_modalities == 1:\n",
    "            axes = [axes]  # To handle single modality case\n",
    "        \n",
    "        for i, modality in enumerate(modalities):\n",
    "            subset = df[df[col] == modality]\n",
    "            sns.histplot(\n",
    "                subset[target], kde=True, ax=axes[i], alpha=0.6, color='skyblue'\n",
    "            )\n",
    "            axes[i].set_title(f'{col} = {modality}')\n",
    "            axes[i].set_xlabel(target)\n",
    "            axes[i].set_ylabel('Frequency')\n",
    "        \n",
    "        plt.suptitle(f'{target} Distribution by {col} (Separate by Modality)', fontsize=16)\n",
    "        plt.tight_layout(rect=[0, 0, 1, 0.96])  # Adjust layout for main title\n",
    "        \n",
    "        # Save plot\n",
    "        plot_path = os.path.join(cat_vs_target_folder, f\"{target}_vs_{col}.png\")\n",
    "        plt.savefig(plot_path, bbox_inches='tight')\n",
    "        plt.close()\n",
    "        \n",
    "        print(f\"Categorical vs Target (Histograms) saved in: {plot_path}\")\n",
    "    \n",
    "    # Parallelize the plotting for categorical vs target\n",
    "    with ThreadPoolExecutor() as executor:\n",
    "        executor.map(plot_categorical_vs_target, categorical_cols)\n",
    "    \n",
    "    # --- Numeric vs Target ---\n",
    "    num_vs_target_folder = os.path.join(base_folder, \"numeric_vs_target\")\n",
    "    if not os.path.exists(num_vs_target_folder):\n",
    "        os.makedirs(num_vs_target_folder)\n",
    "    \n",
    "    # Select numeric columns\n",
    "    numeric_cols = df.select_dtypes(include=['float64','int64']).columns\n",
    "    \n",
    "    def plot_numeric_vs_target(col):\n",
    "        print(f\"\\nAnalyzing Numeric vs Target: {target} vs {col}\")\n",
    "        \n",
    "        # Sample the data for faster plotting\n",
    "        sampled_df = df.sample(frac=sample_frac, random_state=42)\n",
    "        \n",
    "        # Create a grid of scatter plots by modality of the target variable\n",
    "        modalities = sampled_df[target].unique()\n",
    "        n_modalities = len(modalities)\n",
    "        fig, axes = plt.subplots(1, n_modalities, figsize=(6 * n_modalities, 6), sharey=True)\n",
    "        \n",
    "        if n_modalities == 1:\n",
    "            axes = [axes]  # To handle single modality case\n",
    "        \n",
    "        for i, modality in enumerate(modalities):\n",
    "            subset = sampled_df[sampled_df[target] == modality]\n",
    "            sns.scatterplot(\n",
    "                x=target, y=col, data=subset, ax=axes[i], alpha=0.4, color='purple'\n",
    "            )\n",
    "            sns.kdeplot(\n",
    "                data=subset, x=target, y=col, ax=axes[i], color=\"red\", levels=3, linewidths=1\n",
    "            )\n",
    "            axes[i].set_title(f'{target} = {modality}')\n",
    "            axes[i].set_xlabel(target)\n",
    "            axes[i].set_ylabel(col)\n",
    "        \n",
    "        plt.suptitle(f'{target} vs {col} (Scatter + Density by Modality)', fontsize=16)\n",
    "        plt.tight_layout(rect=[0, 0, 1, 0.96])  # Adjust layout for main title\n",
    "        \n",
    "        # Save plot\n",
    "        plot_path = os.path.join(num_vs_target_folder, f\"{target}_vs_{col}.png\")\n",
    "        plt.savefig(plot_path, bbox_inches='tight')\n",
    "        plt.close()\n",
    "        \n",
    "        print(f\"Numeric vs Target (Scatter + Density) saved in: {plot_path}\")\n",
    "    \n",
    "    # Parallelize the plotting for numeric vs target\n",
    "    with ThreadPoolExecutor() as executor:\n",
    "        executor.map(plot_numeric_vs_target, numeric_cols)\n"
   ]
  },
  {
   "cell_type": "code",
   "execution_count": null,
   "metadata": {},
   "outputs": [
    {
     "name": "stdout",
     "output_type": "stream",
     "text": [
      "\n",
      "Analyzing Categorical vs Target: RainTomorrow vs Date\n",
      "\n",
      "Analyzing Categorical vs Target: RainTomorrow vs Location\n",
      "\n",
      "Analyzing Categorical vs Target: RainTomorrow vs WindGustDir\n",
      "\n",
      "Analyzing Categorical vs Target: RainTomorrow vs WindDir9am\n",
      "\n",
      "Analyzing Categorical vs Target: RainTomorrow vs WindDir3pm\n",
      "\n",
      "Analyzing Categorical vs Target: RainTomorrow vs RainToday\n",
      "\n",
      "Analyzing Categorical vs Target: RainTomorrow vs RainTomorrow\n",
      "Categorical vs Target (Histograms) saved in: multivariate_analysis\\categorical_vs_target\\RainTomorrow_vs_RainToday.png\n",
      "Categorical vs Target (Histograms) saved in: multivariate_analysis\\categorical_vs_target\\RainTomorrow_vs_RainTomorrow.png\n",
      "Categorical vs Target (Histograms) saved in: multivariate_analysis\\categorical_vs_target\\RainTomorrow_vs_WindDir3pm.png\n",
      "Categorical vs Target (Histograms) saved in: multivariate_analysis\\categorical_vs_target\\RainTomorrow_vs_WindGustDir.png\n",
      "Categorical vs Target (Histograms) saved in: multivariate_analysis\\categorical_vs_target\\RainTomorrow_vs_WindDir9am.png\n",
      "Categorical vs Target (Histograms) saved in: multivariate_analysis\\categorical_vs_target\\RainTomorrow_vs_Location.png\n"
     ]
    }
   ],
   "source": [
    "multivariate_analysis(target,df,base_folder=\"multivariate_analysis\")"
   ]
  },
  {
   "cell_type": "markdown",
   "metadata": {},
   "source": [
    "### Multyvarie Analysis advanced"
   ]
  },
  {
   "cell_type": "code",
   "execution_count": 9,
   "metadata": {},
   "outputs": [],
   "source": [
    "def scatter_plot_combinations(target, df, base_folder=\"scatter_combinations\"):\n",
    "    \"\"\"\n",
    "    Generates scatter plots for all possible combinations between the target variable,\n",
    "    one categorical variable, and one numerical variable.\n",
    "    Outputs:\n",
    "        - Scatter plots showing the relationship between target and numerical variable,\n",
    "          colored by the categories of the categorical variable.\n",
    "    \n",
    "    Parameters:\n",
    "        df (pd.DataFrame): The DataFrame to analyze.\n",
    "        target (str): The target variable for comparison.\n",
    "        base_folder (str): Directory to save the scatter plots.\n",
    "    \"\"\"\n",
    "    # Ensure the base folder exists\n",
    "    if not os.path.exists(base_folder):\n",
    "        os.makedirs(base_folder)\n",
    "    \n",
    "    # Select categorical and numeric columns\n",
    "    categorical_cols = df.select_dtypes(include=['object', 'category']).columns\n",
    "    numeric_cols = df.select_dtypes(include=['number']).columns\n",
    "    \n",
    "    # Iterate through all combinations of categorical and numerical variables\n",
    "    for cat_col in categorical_cols:\n",
    "        if cat_col != target:  # Skip the target itself\n",
    "            for num_col in numeric_cols:\n",
    "                if num_col != target:  # Skip the target itself\n",
    "                    print(f\"\\nCreating Scatter Plot: Target={target}, Categorical={cat_col}, Numerical={num_col}\")\n",
    "                    \n",
    "                    # Plot\n",
    "                    plt.figure(figsize=(10, 6))\n",
    "                    sns.scatterplot(\n",
    "                        x=num_col, \n",
    "                        y=target, \n",
    "                        hue=cat_col, \n",
    "                        data=df, \n",
    "                        palette=\"viridis\", \n",
    "                        alpha=0.6\n",
    "                    )\n",
    "                    plt.title(f'{target} vs {num_col} by {cat_col}')\n",
    "                    plt.xlabel(num_col)\n",
    "                    plt.ylabel(target)\n",
    "                    plt.legend(title=cat_col)\n",
    "                    \n",
    "                    # Save plot\n",
    "                    plot_folder = os.path.join(base_folder, f\"{target}_vs_{num_col}_by_{cat_col}\")\n",
    "                    if not os.path.exists(plot_folder):\n",
    "                        os.makedirs(plot_folder)\n",
    "                    plot_path = os.path.join(plot_folder, f\"{target}_vs_{num_col}_by_{cat_col}.png\")\n",
    "                    plt.savefig(plot_path, bbox_inches='tight')\n",
    "                    plt.close()\n",
    "                    \n",
    "                    print(f\"Scatter Plot saved in: {plot_path}\")\n"
   ]
  },
  {
   "cell_type": "code",
   "execution_count": null,
   "metadata": {},
   "outputs": [],
   "source": [
    "scatter_plot_combinations(target, df, base_folder=\"scatter_combinations\")"
   ]
  },
  {
   "cell_type": "markdown",
   "metadata": {},
   "source": [
    "#### Correlation matrix"
   ]
  },
  {
   "cell_type": "code",
   "execution_count": 11,
   "metadata": {},
   "outputs": [],
   "source": [
    "import os\n",
    "import matplotlib.pyplot as plt\n",
    "import seaborn as sns\n",
    "import pandas as pd\n",
    "from scipy.stats import pearsonr\n",
    "import numpy as np\n",
    "\n",
    "def correlation_and_significance(df, base_folder=\"correlation_analysis\"):\n",
    "    \"\"\"\n",
    "    Generates a correlation matrix heatmap with significance markers.\n",
    "    Outputs:\n",
    "        - Correlation Matrix with significance points (red = not significant, green = significant)\n",
    "    \n",
    "    Parameters:\n",
    "        df (pd.DataFrame): The DataFrame to analyze.\n",
    "        base_folder (str): Directory to save the analysis images.\n",
    "    \"\"\"\n",
    "    # Ensure the base folder exists\n",
    "    if not os.path.exists(base_folder):\n",
    "        os.makedirs(base_folder)\n",
    "    \n",
    "    # Select only numerical columns\n",
    "    numeric_df = df.select_dtypes(include=['number'])\n",
    "    cols = numeric_df.columns\n",
    "    \n",
    "    # Calculate the correlation matrix\n",
    "    corr_matrix = numeric_df.corr()\n",
    "    \n",
    "    # Initialize p-value matrix\n",
    "    p_values = pd.DataFrame(np.ones((len(cols), len(cols))), columns=cols, index=cols)\n",
    "    \n",
    "    # Calculate p-values for each pair of variables\n",
    "    for row in cols:\n",
    "        for col in cols:\n",
    "            if row != col:\n",
    "                _, p_value = pearsonr(numeric_df[row], numeric_df[col])\n",
    "                p_values.loc[row, col] = p_value\n",
    "    \n",
    "    # --- Plot Correlation Matrix with Significance ---\n",
    "    plt.figure(figsize=(14, 12))\n",
    "    sns.heatmap(corr_matrix, annot=True, cmap='coolwarm', fmt='.2f', linewidths=0.5)\n",
    "    \n",
    "    # Add significance markers\n",
    "    for i in range(len(cols)):\n",
    "        for j in range(len(cols)):\n",
    "            if i != j:  # Skip diagonal\n",
    "                p_val = p_values.iloc[i, j]\n",
    "                x = j + 0.5\n",
    "                y = i + 0.5\n",
    "                \n",
    "                # Significant if p-value < 0.05\n",
    "                if p_val < 0.05:\n",
    "                    plt.plot(x, y, 'o', color='green')  # Green for significant\n",
    "                else:\n",
    "                    plt.plot(x, y, 'o', color='red')    # Red for not significant\n",
    "    \n",
    "    plt.title('Correlation Matrix with Significance (Numerical Variables)', fontsize=18)\n",
    "    plt.xticks(rotation=45)\n",
    "    plt.yticks(rotation=0)\n",
    "    plt.tight_layout()\n",
    "    \n",
    "    # Save Correlation Matrix with Significance\n",
    "    corr_plot_path = os.path.join(base_folder, \"correlation_matrix_significance.png\")\n",
    "    plt.savefig(corr_plot_path, bbox_inches='tight')\n",
    "    plt.close()\n",
    "    \n",
    "    print(f\"Correlation matrix with significance saved in: {corr_plot_path}\")\n"
   ]
  },
  {
   "cell_type": "code",
   "execution_count": 12,
   "metadata": {},
   "outputs": [
    {
     "name": "stdout",
     "output_type": "stream",
     "text": [
      "Correlation matrix with significance saved in: correlation_analysis\\correlation_matrix_significance.png\n"
     ]
    }
   ],
   "source": [
    "# Assuming df is your DataFrame\n",
    "correlation_and_significance(df=df)"
   ]
  },
  {
   "cell_type": "markdown",
   "metadata": {},
   "source": [
    "### Data Cleaning"
   ]
  },
  {
   "cell_type": "markdown",
   "metadata": {},
   "source": [
    "#### Handling missing values"
   ]
  },
  {
   "cell_type": "markdown",
   "metadata": {},
   "source": [
    "#### Removing duplicates rows\n"
   ]
  },
  {
   "cell_type": "markdown",
   "metadata": {},
   "source": [
    "#### Handles outliers"
   ]
  },
  {
   "cell_type": "markdown",
   "metadata": {},
   "source": [
    "#### Data type conversions"
   ]
  },
  {
   "cell_type": "markdown",
   "metadata": {},
   "source": [
    "#### feature eng"
   ]
  },
  {
   "cell_type": "markdown",
   "metadata": {},
   "source": [
    "#### Target Variable"
   ]
  },
  {
   "cell_type": "markdown",
   "metadata": {},
   "source": [
    "#### Data split\n"
   ]
  }
 ],
 "metadata": {
  "kernelspec": {
   "display_name": "Python 3",
   "language": "python",
   "name": "python3"
  },
  "language_info": {
   "codemirror_mode": {
    "name": "ipython",
    "version": 3
   },
   "file_extension": ".py",
   "mimetype": "text/x-python",
   "name": "python",
   "nbconvert_exporter": "python",
   "pygments_lexer": "ipython3",
   "version": "3.12.6"
  }
 },
 "nbformat": 4,
 "nbformat_minor": 2
}
